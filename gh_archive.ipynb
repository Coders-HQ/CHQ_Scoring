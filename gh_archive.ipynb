{
 "metadata": {
  "language_info": {
   "codemirror_mode": {
    "name": "ipython",
    "version": 3
   },
   "file_extension": ".py",
   "mimetype": "text/x-python",
   "name": "python",
   "nbconvert_exporter": "python",
   "pygments_lexer": "ipython3",
   "version": "3.8.5-final"
  },
  "orig_nbformat": 2,
  "kernelspec": {
   "name": "python38564bitvenv91baf03d838a47448cdd48b64c39105b",
   "display_name": "Python 3.8.5 64-bit ('venv')",
   "language": "python"
  }
 },
 "nbformat": 4,
 "nbformat_minor": 2,
 "cells": [
  {
   "source": [
    "# Github Archive\n",
    "\n",
    "Github archive (GA) is a website where they save all Github events every hour. These can be downloaded per hour from the website.\n",
    "\n",
    "- Activity archives are available starting 2/12/2011.\n",
    "- Activity archives for dates between 2/12/2011-12/31/2014 was recorded from the (now deprecated) Timeline API.\n",
    "- Activity archives for dates starting 1/1/2015 is recorded from the Events API.\n"
   ],
   "cell_type": "markdown",
   "metadata": {}
  },
  {
   "source": [
    "## Download and clean up data\n",
    "\n",
    "Download all GA events at 17/1/2021 @ 3PM UTC"
   ],
   "cell_type": "markdown",
   "metadata": {}
  },
  {
   "cell_type": "code",
   "execution_count": 1,
   "metadata": {},
   "outputs": [
    {
     "output_type": "execute_result",
     "data": {
      "text/plain": [
       "42326542"
      ]
     },
     "metadata": {},
     "execution_count": 1
    }
   ],
   "source": [
    "import requests\n",
    "\n",
    "date = \"2021-01-17-15.json.gz\"\n",
    "url = 'https://data.gharchive.org/' + date\n",
    "r = requests.get(url, allow_redirects=True)\n",
    "open(date, 'wb').write(r.content)"
   ]
  },
  {
   "source": [
    "Unzip compressed file and read first entry"
   ],
   "cell_type": "markdown",
   "metadata": {}
  },
  {
   "cell_type": "code",
   "execution_count": 5,
   "metadata": {
    "tags": [
     "outputPrepend"
    ]
   },
   "outputs": [
    {
     "output_type": "stream",
     "name": "stdout",
     "text": [
      "ns/ms-python.vscode-pylance-2021.1.2-pre.1/dist/typeshed-fallback/third_party/2and3/yaml/composer.pyi [fs read 0ms] (1ms)\\r\\n[IDX(2)]       binding: /home/user/.vscode/extensions/ms-python.vscode-pylance-2021.1.2-pre.1/dist/typeshed-fallback/third_party/2and3/yaml/composer.pyi (0ms)\\r\\n[IDX(2)]       parsing: /home/user/.vscode/extensions/ms-python.vscode-pylance-2021.1.2-pre.1/dist/typeshed-fallback/third_party/2and3/yaml/constructor.pyi [fs read 0ms] (1ms)\\r\\n[IDX(2)]       binding: /home/user/.vscode/extensions/ms-python.vscode-pylance-2021.1.2-pre.1/dist/typeshed-fallback/third_party/2and3/yaml/constructor.pyi (0ms)\\r\\n[IDX(2)]       parsing: /home/user/.vscode/extensions/ms-python.vscode-pylance-2021.1.2-pre.1/dist/typeshed-fallback/third_party/2and3/yaml/parser.pyi [fs read 0ms] (0ms)\\r\\n[IDX(2)]       binding: /home/user/.vscode/extensions/ms-python.vscode-pylance-2021.1.2-pre.1/dist/typeshed-fallback/third_party/2and3/yaml/parser.pyi (1ms)\\r\\n[IDX(2)]       parsing: /home/user/.vscode/extensions/ms-python.vscode-pylance-2021.1.2-pre.1/dist/typeshed-fallback/third_party/2and3/yaml/reader.pyi [fs read 0ms] (0ms)\\r\\n[IDX(2)]       binding: /home/user/.vscode/extensions/ms-python.vscode-pylance-2021.1.2-pre.1/dist/typeshed-fallback/third_party/2and3/yaml/reader.pyi (0ms)\\r\\n[IDX(2)]       parsing: /home/user/.vscode/extensions/ms-python.vscode-pylance-2021.1.2-pre.1/dist/typeshed-fallback/third_party/2and3/yaml/scanner.pyi [fs read 0ms] (1ms)\\r\\n[IDX(2)]       binding: /home/user/.vscode/extensions/ms-python.vscode-pylance-2021.1.2-pre.1/dist/typeshed-fallback/third_party/2and3/yaml/scanner.pyi (0ms)\\r\\n[IDX(2)]       parsing: /home/user/.vscode/extensions/ms-python.vscode-pylance-2021.1.2-pre.1/dist/typeshed-fallback/stdlib/2and3/_typeshed/__init__.pyi [fs read 0ms] (2ms)\\r\\n[IDX(2)]       binding: /home/user/.vscode/extensions/ms-python.vscode-pylance-2021.1.2-pre.1/dist/typeshed-fallback/stdlib/2and3/_typeshed/__init__.pyi (1ms)\\r\\n[IDX(2)]     indexing: /home/user/.vscode/extensions/ms-python.vscode-pylance-2021.1.2-pre.1/dist/typeshed-fallback/third_party/2and3/yaml/__init__.pyi [found 105] (12ms)\\r\\n[IDX(2)]     parsing: /home/user/code/vscodedebugfastapi/env3.8/lib/python3.8/site-packages/dotenv/__init__.py [fs read 0ms] (2ms)\\r\\n[IDX(2)]     binding: /home/user/code/vscodedebugfastapi/env3.8/lib/python3.8/site-packages/dotenv/__init__.py (1ms)\\r\\n[IDX(2)]     indexing: /home/user/code/vscodedebugfastapi/env3.8/lib/python3.8/site-packages/dotenv/__init__.py ...\\r\\n[IDX(2)]       parsing: /home/user/code/vscodedebugfastapi/env3.8/lib/python3.8/site-packages/dotenv/main.py [fs read 0ms] (18ms)\\r\\n[IDX(2)]       binding: /home/user/code/vscodedebugfastapi/env3.8/lib/python3.8/site-packages/dotenv/main.py (4ms)\\r\\n[IDX(2)]     indexing: /home/user/code/vscodedebugfastapi/env3.8/lib/python3.8/site-packages/dotenv/__init__.py [found 8] (22ms)\\r\\n[IDX(2)]     parsing: /home/user/code/vscodedebugfastapi/env3.8/lib/python3.8/site-packages/h11/__init__.py [fs read 0ms] (1ms)\\r\\n[IDX(2)]     binding: /home/user/code/vscodedebugfastapi/env3.8/lib/python3.8/site-packages/h11/__init__.py ...\\r\\n[IDX(2)]       parsing: /home/user/code/vscodedebugfastapi/env3.8/lib/python3.8/site-packages/h11/_connection.py [fs read 1ms] (15ms)\\r\\n[IDX(2)]       binding: /home/user/code/vscodedebugfastapi/env3.8/lib/python3.8/site-packages/h11/_connection.py ...\\r\\n[IDX(2)]         parsing: /home/user/code/vscodedebugfastapi/env3.8/lib/python3.8/site-packages/h11/_events.py [fs read 0ms] (6ms)\\r\\n[IDX(2)]         binding: /home/user/code/vscodedebugfastapi/env3.8/lib/python3.8/site-packages/h11/_events.py (2ms)\\r\\n[IDX(2)]         parsing: /home/user/code/vscodedebugfastapi/env3.8/lib/python3.8/site-packages/h11/_state.py [fs read 0ms] (5ms)\\r\\n[IDX(2)]         binding: /home/user/code/vscodedebugfastapi/env3.8/lib/python3.8/site-packages/h11/_state.py (2ms)\\r\\n[IDX(2)]       binding: /home/user/code/vscodedebugfastapi/env3.8/lib/python3.8/site-packages/h11/_connection.py (20ms)\\r\\n[IDX(2)]     binding: /home/user/code/vscodedebugfastapi/env3.8/lib/python3.8/site-packages/h11/__init__.py (36ms)\\r\\n[IDX(2)]     indexing: /home/user/code/vscodedebugfastapi/env3.8/lib/python3.8/site-packages/h11/__init__.py ...\\r\\n[IDX(2)]       parsing: /home/user/code/vscodedebugfastapi/env3.8/lib/python3.8/site-packages/h11/_util.py [fs read 0ms] (1ms)\\r\\n[IDX(2)]       binding: /home/user/code/vscodedebugfastapi/env3.8/lib/python3.8/site-packages/h11/_util.py (1ms)\\r\\n[IDX(2)]     indexing: /home/user/code/vscodedebugfastapi/env3.8/lib/python3.8/site-packages/h11/__init__.py [found 23] (3ms)\\r\\n[IDX(2)]     parsing: /home/user/code/vscodedebugfastapi/env3.8/lib/python3.8/site-packages/httptools/__init__.py [fs read 0ms] (1ms)\\r\\n[IDX(2)]     binding: /home/user/code/vscodedebugfastapi/env3.8/lib/python3.8/site-packages/httptools/__init__.py ...\\r\\n[IDX(2)]       parsing: /home/user/code/vscodedebugfastapi/env3.8/lib/python3.8/site-packages/httptools/parser/__init__.py [fs read 0ms] (1ms)\\r\\n[IDX(2)]       binding: /home/user/code/vscodedebugfastapi/env3.8/lib/python3.8/site-packages/httptools/parser/__init__.py ...\\r\\n[IDX(2)]         parsing: /home/user/code/vscodedebugfastapi/env3.8/lib/python3.8/site-packages/httptools/parser/errors.py [fs read 0ms] (0ms)\\r\\n[IDX(2)]         binding: /home/user/code/vscodedebugfastapi/env3.8/lib/python3.8/site-packages/httptools/parser/errors.py (0ms)\\r\\n[IDX(2)]       binding: /home/user/code/vscodedebugfastapi/env3.8/lib/python3.8/site-packages/httptools/parser/__init__.py (1ms)\\r\\n[IDX(2)]     binding: /home/user/code/vscodedebugfastapi/env3.8/lib/python3.8/site-packages/httptools/__init__.py (2ms)\\r\\n[IDX(2)]     indexing: /home/user/code/vscodedebugfastapi/env3.8/lib/python3.8/site-packages/httptools/__init__.py [found 0] (0ms)\\r\\n[IDX(2)]     parsing: /home/user/code/vscodedebugfastapi/env3.8/lib/python3.8/site-packages/pydantic/__init__.py [fs read 0ms] (2ms)\\r\\n[IDX(2)]     binding: /home/user/code/vscodedebugfastapi/env3.8/lib/python3.8/site-packages/pydantic/__init__.py ...\\r\\n[IDX(2)]       parsing: /home/user/code/vscodedebugfastapi/env3.8/lib/python3.8/site-packages/pydantic/errors.py [fs read 0ms] (12ms)\\r\\n[IDX(2)]       binding: /home/user/code/vscodedebugfastapi/env3.8/lib/python3.8/site-packages/pydantic/errors.py (5ms)\\r\\n[IDX(2)]       parsing: /home/user/code/vscodedebugfastapi/env3.8/lib/python3.8/site-packages/pydantic/main.py [fs read 0ms] (38ms)\\r\\n[IDX(2)]       binding: /home/user/code/vscodedebugfastapi/env3.8/lib/python3.8/site-packages/pydantic/main.py (13ms)\\r\\n[IDX(2)]       parsing: /home/user/code/vscodedebugfastapi/env3.8/lib/python3.8/site-packages/pydantic/networks.py [fs read 0ms] (16ms)\\r\\n[IDX(2)]       binding: /home/user/code/vscodedebugfastapi/env3.8/lib/python3.8/site-packages/pydantic/networks.py (5ms)\\r\\n[IDX(2)]       parsing: /home/user/code/vscodedebugfastapi/env3.8/lib/python3.8/site-packages/pydantic/tools.py [fs read 0ms] (2ms)\\r\\n[IDX(2)]       binding: /home/user/code/vscodedebugfastapi/env3.8/lib/python3.8/site-packages/pydantic/tools.py (1ms)\\r\\n[IDX(2)]       parsing: /home/user/code/vscodedebugfastapi/env3.8/lib/python3.8/site-packages/pydantic/types.py [fs read 0ms] (11ms)\\r\\n[IDX(2)]       binding: /home/user/code/vscodedebugfastapi/env3.8/lib/python3.8/site-packages/pydantic/types.py (6ms)\\r\\n[IDX(2)]     binding: /home/user/code/vscodedebugfastapi/env3.8/lib/python3.8/site-packages/pydantic/__init__.py (111ms)\\r\\n[IDX(2)]     indexing: /home/user/code/vscodedebugfastapi/env3.8/lib/python3.8/site-packages/pydantic/__init__.py ...\\r\\n[IDX(2)]       parsing: /home/user/code/vscodedebugfastapi/env3.8/lib/python3.8/site-packages/pydantic/class_validators.py [fs read 0ms] (14ms)\\r\\n[IDX(2)]       binding: /home/user/code/vscodedebugfastapi/env3.8/lib/python3.8/site-packages/pydantic/class_validators.py (4ms)\\r\\n[IDX(2)]       parsing: /home/user/code/vscodedebugfastapi/env3.8/lib/python3.8/site-packages/pydantic/decorator.py [fs read 0ms] (5ms)\\r\\n[IDX(2)]       binding: /home/user/code/vscodedebugfastapi/env3.8/lib/python3.8/site-packages/pydantic/decorator.py (3ms)\\r\\n[IDX(2)]       parsing: /home/user/code/vscodedebugfastapi/env3.8/lib/python3.8/site-packages/pydantic/env_settings.py [fs read 0ms] (4ms)\\r\\n[IDX(2)]       binding: /home/user/code/vscodedebugfastapi/env3.8/lib/python3.8/site-packages/pydantic/env_settings.py (1ms)\\r\\n[IDX(2)]       parsing: /home/user/code/vscodedebugfastapi/env3.8/lib/python3.8/site-packages/pydantic/error_wrappers.py [fs read 0ms] (9ms)\\r\\n[IDX(2)]       binding: /home/user/code/vscodedebugfastapi/env3.8/lib/python3.8/site-packages/pydantic/error_wrappers.py (1ms)\\r\\n[IDX(2)]       parsing: /home/user/code/vscodedebugfastapi/env3.8/lib/python3.8/site-packages/pydantic/fields.py [fs read 1ms] (23ms)\\r\\n[IDX(2)]       binding: /home/user/code/vscodedebugfastapi/env3.8/lib/python3.8/site-packages/pydantic/fields.py (8ms)\\r\\n[IDX(2)]       parsing: /home/user/code/vscodedebugfastapi/env3.8/lib/python3.8/site-packages/pydantic/parse.py [fs read 0ms] (1ms)\\r\\n[IDX(2)]       binding: /home/user/code/vscodedebugfastapi/env3.8/lib/python3.8/site-packages/pydantic/parse.py (1ms)\\r\\n[IDX(2)]       parsing: /home/user/code/vscodedebugfastapi/env3.8/lib/python3.8/site-packages/pydantic/version.py [fs read 0ms] (2ms)\\r\\n[IDX(2)]       binding: /home/user/code/vscodedebugfastapi/env3.8/lib/python3.8/site-packages/pydantic/version.py (0ms)\\r\\n[IDX(2)]     indexing: /home/user/code/vscodedebugfastapi/env3.8/lib/python3.8/site-packages/pydantic/__init__.py [found 71] (78ms)\\r\\n[IDX(2)]     parsing: /home/user/code/vscodedebugfastapi/env3.8/lib/python3.8/site-packages/setuptools/__init__.py [fs read 0ms] (10ms)\\r\\n[IDX(2)]     binding: /home/user/code/vscodedebugfastapi/env3.8/lib/python3.8/site-packages/setuptools/__init__.py (2ms)\\r\\n[IDX(2)]     indexing: /home/user/code/vscodedebugfastapi/env3.8/lib/python3.8/site-packages/setuptools/__init__.py ...\\r\\n[IDX(2)]       parsing: /home/user/code/vscodedebugfastapi/env3.8/lib/python3.8/site-packages/setuptools/_deprecation_warning.py [fs read 0ms] (2ms)\\r\\n[IDX(2)]       binding: /home/user/code/vscodedebugfastapi/env3.8/lib/python3.8/site-packages/setuptools/_deprecation_warning.py (0ms)\\r\\n[IDX(2)]       parsing: /home/user/code/vscodedebugfastapi/env3.8/lib/python3.8/site-packages/setuptools/extension.py [fs read 0ms] (1ms)\\r\\n[IDX(2)]       binding: /home/user/code/vscodedebugfastapi/env3.8/lib/python3.8/site-packages/setuptools/extension.py (1ms)\\r\\n[IDX(2)]       parsing: /home/user/code/vscodedebugfastapi/env3.8/lib/python3.8/site-packages/setuptools/dist.py [fs read 0ms] (41ms)\\r\\n[IDX(2)]       binding: /home/user/code/vscodedebugfastapi/env3.8/lib/python3.8/site-packages/setuptools/dist.py (9ms)\\r\\n[IDX(2)]       parsing: /home/user/code/vscodedebugfastapi/env3.8/lib/python3.8/site-packages/setuptools/depends.py [fs read 1ms] (7ms)\\r\\n[IDX(2)]       binding: /home/user/code/vscodedebugfastapi/env3.8/lib/python3.8/site-packages/setuptools/depends.py (2ms)\\r\\n[IDX(2)]     indexing: /home/user/code/vscodedebugfastapi/env3.8/lib/python3.8/site-packages/setuptools/__init__.py [found 8] (65ms)\\r\\n[IDX(2)]     parsing: /home/user/code/vscodedebugfastapi/env3.8/lib/python3.8/site-packages/uvicorn/__init__.py [fs read 0ms] (3ms)\\r\\n[IDX(2)]     binding: /home/user/code/vscodedebugfastapi/env3.8/lib/python3.8/site-packages/uvicorn/__init__.py (0ms)\\r\\n[IDX(2)]     indexing: /home/user/code/vscodedebugfastapi/env3.8/lib/python3.8/site-packages/uvicorn/__init__.py ...\\r\\n[IDX(2)]       parsing: /home/user/code/vscodedebugfastapi/env3.8/lib/python3.8/site-packages/uvicorn/config.py [fs read 0ms] (18ms)\\r\\n[IDX(2)]       binding: /home/user/code/vscodedebugfastapi/env3.8/lib/python3.8/site-packages/uvicorn/config.py (3ms)\\r\\n[IDX(2)]       parsing: /home/user/code/vscodedebugfastapi/env3.8/lib/python3.8/site-packages/uvicorn/main.py [fs read 0ms] (15ms)\\r\\n[IDX(2)]       binding: /home/user/code/vscodedebugfastapi/env3.8/lib/python3.8/site-packages/uvicorn/main.py (2ms)\\r\\n[IDX(2)]       parsing: /home/user/code/vscodedebugfastapi/env3.8/lib/python3.8/site-packages/uvicorn/server.py [fs read 0ms] (4ms)\\r\\n[IDX(2)]       binding: /home/user/code/vscodedebugfastapi/env3.8/lib/python3.8/site-packages/uvicorn/server.py (5ms)\\r\\n[IDX(2)]     indexing: /home/user/code/vscodedebugfastapi/env3.8/lib/python3.8/site-packages/uvicorn/__init__.py [found 4] (47ms)\\r\\n[IDX(2)]     parsing: /home/user/code/vscodedebugfastapi/env3.8/lib/python3.8/site-packages/uvloop/__init__.py [fs read 0ms] (1ms)\\r\\n[IDX(2)]     binding: /home/user/code/vscodedebugfastapi/env3.8/lib/python3.8/site-packages/uvloop/__init__.py (1ms)\\r\\n[IDX(2)]     indexing: /home/user/code/vscodedebugfastapi/env3.8/lib/python3.8/site-packages/uvloop/__init__.py [found 3] (0ms)\\r\\n[IDX(2)]     parsing: /home/user/code/vscodedebugfastapi/env3.8/lib/python3.8/site-packages/websockets/__init__.py [fs read 0ms] (1ms)\\r\\n[IDX(2)]     binding: /home/user/code/vscodedebugfastapi/env3.8/lib/python3.8/site-packages/websockets/__init__.py ...\\r\\n[IDX(2)]       parsing: /home/user/code/vscodedebugfastapi/env3.8/lib/python3.8/site-packages/websockets/auth.py [fs read 0ms] (4ms)\\r\\n[IDX(2)]       binding: /home/user/code/vscodedebugfastapi/env3.8/lib/python3.8/site-packages/websockets/auth.py (2ms)\\r\\n[IDX(2)]       parsing: /home/user/code/vscodedebugfastapi/env3.8/lib/python3.8/site-packages/websockets/client.py [fs read 0ms] (17ms)\\r\\n[IDX(2)]       binding: /home/user/code/vscodedebugfastapi/env3.8/lib/python3.8/site-packages/websockets/client.py (5ms)\\r\\n[IDX(2)]       parsing: /home/user/code/vscodedebugfastapi/env3.8/lib/python3.8/site-packages/websockets/exceptions.py [fs read 0ms] (6ms)\\r\\n[IDX(2)]       binding: /home/user/code/vscodedebugfastapi/env3.8/lib/python3.8/site-packages/websockets/exceptions.py (5ms)\\r\\n[IDX(2)]       parsing: /home/user/code/vscodedebugfastapi/env3.8/lib/python3.8/site-packages/websockets/protocol.py [fs read 0ms] (10ms)\\r\\n[IDX(2)]       binding: /home/user/code/vscodedebugfastapi/env3.8/lib/python3.8/site-packages/websockets/protocol.py ...\\r\\n[IDX(2)]         parsing: /home/user/code/vscodedebugfastapi/env3.8/lib/python3.8/site-packages/websockets/framing.py [fs read 0ms] (9ms)\\r\\n[IDX(2)]         binding: /home/user/code/vscodedebugfastapi/env3.8/lib/python3.8/site-packages/websockets/framing.py (6ms)\\r\\n[IDX(2)]         parsing: /home/user/code/vscodedebugfastapi/env3.8/lib/python3.8/site-packages/websockets/handshake.py [fs read 0ms] (5ms)\\r\\n[IDX(2)]         binding: /home/user/code/vscodedebugfastapi/env3.8/lib/python3.8/site-packages/websockets/handshake.py (1ms)\\r\\n[IDX(2)]       binding: /home/user/code/vscodedebugfastapi/env3.8/lib/python3.8/site-packages/websockets/protocol.py (30ms)\\r\\n[IDX(2)]       parsing: /home/user/code/vscodedebugfastapi/env3.8/lib/python3.8/site-packages/websockets/server.py [fs read 0ms] (8ms)\\r\\n[IDX(2)]       binding: /home/user/code/vscodedebugfastapi/env3.8/lib/python3.8/site-packages/websockets/server.py (7ms)\\r\\n[IDX(2)]       parsing: /home/user/code/vscodedebugfastapi/env3.8/lib/python3.8/site-packages/websockets/typing.py [fs read 1ms] (1ms)\\r\\n[IDX(2)]       binding: /home/user/code/vscodedebugfastapi/env3.8/lib/python3.8/site-packages/websockets/typing.py (0ms)\\r\\n[IDX(2)]       parsing: /home/user/code/vscodedebugfastapi/env3.8/lib/python3.8/site-packages/websockets/uri.py [fs read 0ms] (1ms)\\r\\n[IDX(2)]       binding: /home/user/code/vscodedebugfastapi/env3.8/lib/python3.8/site-packages/websockets/uri.py (0ms)\\r\\n[IDX(2)]     binding: /home/user/code/vscodedebugfastapi/env3.8/lib/python3.8/site-packages/websockets/__init__.py (98ms)\\r\\n[IDX(2)]     indexing: /home/user/code/vscodedebugfastapi/env3.8/lib/python3.8/site-packages/websockets/__init__.py [found 41] (1ms)\\r\\n[IDX(2)]   index execution environment /home/user/code/vscodedebugfastapi [found 7174 in 390 files] (1996ms)\\r\\n[IDX(2)] index libraries /home/user/code/vscodedebugfastapi [found 7174 in 1 exec envs] (2277ms)\\r\\n[Info  - 3:55:34 PM] [IDX(2)] Long operation: index libraries /home/user/code/vscodedebugfastapi (2277ms)\\r\\n[Info  - 3:55:34 PM] Indexer done(2). indexed 390 files\\r\\n[FG] parsing: /home/user/code/vscodedebugfastapi/main.py (45ms)\\r\\n[FG] parsing: /home/user/.vscode/extensions/ms-python.vscode-pylance-2021.1.2-pre.1/dist/typeshed-fallback/stdlib/3/builtins.pyi [fs read 4ms] (105ms)\\r\\n[FG] binding: /home/user/.vscode/extensions/ms-python.vscode-pylance-2021.1.2-pre.1/dist/typeshed-fallback/stdlib/3/builtins.pyi (33ms)\\r\\n[FG] binding: /home/user/code/vscodedebugfastapi/main.py (0ms)\\r\\n[FG] parsing: /home/user/.vscode/extensions/ms-python.vscode-pylance-2021.1.2-pre.1/dist/typeshed-fallback/stdlib/2and3/_typeshed/__init__.pyi [fs read 1ms] (11ms)\\r\\n[FG] binding: /home/user/.vscode/extensions/ms-python.vscode-pylance-2021.1.2-pre.1/dist/typeshed-fallback/stdlib/2and3/_typeshed/__init__.pyi (1ms)\\r\\n[FG] parsing: /home/user/.vscode/extensions/ms-python.vscode-pylance-2021.1.2-pre.1/dist/typeshed-fallback/third_party/2and3/typing_extensions.pyi [fs read 1ms] (4ms)\\r\\n[FG] binding: /home/user/.vscode/extensions/ms-python.vscode-pylance-2021.1.2-pre.1/dist/typeshed-fallback/third_party/2and3/typing_extensions.pyi (1ms)\\r\\n[FG] parsing: /home/user/.vscode/extensions/ms-python.vscode-pylance-2021.1.2-pre.1/dist/typeshed-fallback/stdlib/3/typing.pyi [fs read 1ms] (31ms)\\r\\n[FG] binding: /home/user/.vscode/extensions/ms-python.vscode-pylance-2021.1.2-pre.1/dist/typeshed-fallback/stdlib/3/typing.pyi (17ms)\\r\\nBackground analysis message: getDiagnosticsForRange\\r\\nBackground analysis message: getDiagnosticsForRange\\r\\nBackground analysis message: getDiagnosticsForRange\\r\\nBackground analysis message: getDiagnosticsForRange\\r\\n[FG] completion at /home/user/code/vscodedebugfastapi/main.py:6:26 ...\\r\\n[FG]   parsing: /home/user/code/vscodedebugfastapi/env3.8/lib/python3.8/site-packages/fastapi/__init__.py [fs read 1ms] (3ms)\\r\\n[FG]   binding: /home/user/code/vscodedebugfastapi/env3.8/lib/python3.8/site-packages/fastapi/__init__.py (0ms)\\r\\n[FG]   parsing: /home/user/code/vscodedebugfastapi/env3.8/lib/python3.8/site-packages/fastapi/applications.py [fs read 1ms] (46ms)\\r\\n[FG]   binding: /home/user/code/vscodedebugfastapi/env3.8/lib/python3.8/site-packages/fastapi/applications.py (5ms)\\r\\n[FG] completion at /home/user/code/vscodedebugfastapi/main.py:6:26 [found 7 items] (103ms)\\r\\nIntelliCode: current invocation did not produce any meaningful tokens.\\r\\nTime taken to get recommendations: 4 ms, Memory increase: 99 KB.\\r\\nBackground analysis message: getDiagnosticsForRange\\r\\nBackground analysis message: getDiagnosticsForRange\\r\\nBackground analysis message: getDiagnosticsForRange\\r\\nBackground analysis message: getDiagnosticsForRange\\r\\nBackground analysis message: getDiagnosticsForRange\\r\\nBackground analysis message: getDiagnosticsForRange\\r\\n[FG] completion at /home/user/code/vscodedebugfastapi/main.py:6:26 [found 7 items] (40ms)\\r\\nIntelliCode: current invocation did not produce any meaningful tokens.\\r\\nTime taken to get recommendations: 1 ms, Memory increase: 32 KB.\\r\\nBackground analysis message: getDiagnosticsForRange\\r\\nBackground analysis message: getDiagnosticsForRange\\r\\nBackground analysis message: getDiagnosticsForRange\\r\\nBackground analysis message: getDiagnosticsForRange\\r\\n[FG] completion at /home/user/code/vscodedebugfastapi/main.py:6:26 [found 7 items] (23ms)\\r\\nIntelliCode: current invocation did not produce any meaningful tokens.\\r\\nTime taken to get recommendations: 1 ms, Memory increase: 25 KB.\\r\\n```\\r\\n\\r\\n</details>', 'performed_via_github_app': None}}, 'public': True, 'created_at': '2021-01-17T15:00:00Z', 'org': {'id': 6154722, 'login': 'microsoft', 'gravatar_id': '', 'url': 'https://api.github.com/orgs/microsoft', 'avatar_url': 'https://avatars.githubusercontent.com/u/6154722?'}}\n"
     ]
    }
   ],
   "source": [
    "import gzip\n",
    "import os\n",
    "import jsonlines\n",
    "\n",
    "\n",
    "date = \"2021-01-17-15.json.gz\"\n",
    "with gzip.open(date,'rb') as reader:\n",
    "    with open('test.txt', 'w+') as f:\n",
    "        reader = jsonlines.Reader(reader)\n",
    "        for obj in reader:\n",
    "            if show:\n",
    "                print(obj)\n",
    "            f.write(obj['actor']['login']+'\\n')\n"
   ]
  },
  {
   "source": [
    "Choose sample of users (only 100)"
   ],
   "cell_type": "markdown",
   "metadata": {}
  },
  {
   "cell_type": "code",
   "execution_count": 17,
   "metadata": {},
   "outputs": [
    {
     "output_type": "stream",
     "name": "stdout",
     "text": [
      "['Bohdan-Skyba', 'sachinola797', 'sagarmittal1', 'IndieMusicAtlas', 'github-actions[bot]', 'Zamtakk', 'JulianFurchert', 'commit-b0t', 'keksobot', 'Bink-dev', 'obasola', 'github-actions[bot]', 'thomasvergne', 'EvgeniyDanisevich', 'sergioasb8', 'PengLoveHONG', 'peyang-Celeron', 'breakingheatmap', 'YoheiNakamura', 'jola7373', 'mayssa04', 'dev-anu', 'nartc', 'tasin-2019331009', 'mrava87', 'bartlomieju', 'vitaut', 'nycu190', 'nhirokinet', 'ov37', 'gopal-panigrahi', 'Napulsnik', 'commit-b0t', 'Roseanne02', 'iyutpo', 'nagasu', 'haruncanatali', 'dennisheiden', 'msutic', 'JeromeDevome', 'LombiqBot', 'jasonold3', 'aryachen', 'antfu', 'keksobot', 'brianjcj', 'LindaHendricks', 'tasin-2019331009', 'zurg3', 'rhdesouza', '1mbir', 'att286', 'msutic', 'Mylapqn', '177amit', 'ehonda', 'commit-b0t', 'cleicastro', 'FerdinaSK', 'jrcech', 'juakiCarbonell', 'integration-vg-ga', 'GoshaTraksel', 'tjehdgur1500', 'mvlabat', 'BornaSadeghi', 'Ufaqhaider', 'Chaboddunamis', 'SufeeLatif', 'justinlanejigglesoft', 'nycu190', 'leninRessurect', 'fcerda', 'DirtyHarryDev', 'VolkerLue', 'kdesysadmin', 'divyagar', 'ViktorKukurba', 'bburns', 'github-learning-lab[bot]', 'winder', 'ruscur', 'github-actions[bot]', 'commit-b0t', 'ChefTom', 'DRJavi', 'lvyazi', 'jmatlock', 'Thunder12345', 'wigyori', 'yolandaruizheras', 'leninRessurect', 'spinningrachel', 'joaroque', 'vvnha', 'github-learning-lab[bot]', 'patriciamv97', 'FireTpen', 'Ankoki-Dev', 'ened']\n"
     ]
    }
   ],
   "source": [
    "with open('test.txt') as f:\n",
    "    users = f.readlines()\n",
    "    \n",
    "\n",
    "user_subset = users[50000:50100]\n",
    "user_subset = [user.strip('\\n') for user in user_subset]\n",
    "print(user_subset)"
   ]
  },
  {
   "source": [
    "Get score per user and saved to variable"
   ],
   "cell_type": "markdown",
   "metadata": {}
  },
  {
   "cell_type": "code",
   "execution_count": 18,
   "metadata": {},
   "outputs": [
    {
     "output_type": "stream",
     "name": "stdout",
     "text": [
      "getting user  1\n",
      "getting user  2\n",
      "getting user  3\n",
      "getting user  4\n",
      "getting user  5\n",
      "getting user  6\n",
      "getting user  7\n",
      "getting user  8\n",
      "getting user  9\n",
      "getting user  10\n",
      "getting user  11\n",
      "getting user  12\n",
      "getting user  13\n",
      "getting user  14\n",
      "getting user  15\n",
      "getting user  16\n",
      "getting user  17\n",
      "getting user  18\n",
      "getting user  19\n",
      "getting user  20\n",
      "getting user  21\n",
      "getting user  22\n",
      "getting user  23\n",
      "getting user  24\n",
      "getting user  25\n",
      "getting user  26\n",
      "getting user  27\n",
      "getting user  28\n",
      "getting user  29\n",
      "getting user  30\n",
      "getting user  31\n",
      "getting user  32\n",
      "getting user  33\n",
      "getting user  34\n",
      "getting user  35\n",
      "getting user  36\n",
      "getting user  37\n",
      "getting user  38\n",
      "getting user  39\n",
      "getting user  40\n",
      "getting user  41\n",
      "getting user  42\n",
      "getting user  43\n",
      "getting user  44\n",
      "getting user  45\n",
      "getting user  46\n",
      "getting user  47\n",
      "getting user  48\n",
      "getting user  49\n",
      "getting user  50\n",
      "getting user  51\n",
      "getting user  52\n",
      "getting user  53\n",
      "getting user  54\n",
      "getting user  55\n",
      "getting user  56\n",
      "getting user  57\n",
      "getting user  58\n",
      "getting user  59\n",
      "getting user  60\n",
      "getting user  61\n",
      "getting user  62\n",
      "getting user  63\n",
      "getting user  64\n",
      "getting user  65\n",
      "getting user  66\n",
      "getting user  67\n",
      "getting user  68\n",
      "getting user  69\n",
      "getting user  70\n",
      "getting user  71\n",
      "getting user  72\n",
      "getting user  73\n",
      "getting user  74\n",
      "getting user  75\n",
      "getting user  76\n",
      "getting user  77\n",
      "getting user  78\n",
      "getting user  79\n",
      "getting user  80\n",
      "getting user  81\n",
      "getting user  82\n",
      "getting user  83\n",
      "getting user  84\n",
      "getting user  85\n",
      "getting user  86\n",
      "getting user  87\n",
      "getting user  88\n",
      "getting user  89\n",
      "getting user  90\n",
      "getting user  91\n",
      "getting user  92\n",
      "getting user  93\n",
      "getting user  94\n",
      "getting user  95\n",
      "getting user  96\n",
      "getting user  97\n",
      "getting user  98\n",
      "getting user  99\n",
      "getting user  100\n",
      "{'Bohdan-Skyba': 143, 'sagarmittal1': 616, 'IndieMusicAtlas': 12, 'github-actions[bot]': 0, 'Zamtakk': 527, 'commit-b0t': 4382427, 'keksobot': 354, 'Bink-dev': 35, 'EvgeniyDanisevich': 43, 'peyang-Celeron': 348, 'breakingheatmap': 1177837, 'YoheiNakamura': 54, 'tasin-2019331009': 88, 'mrava87': 846, 'bartlomieju': 1434, 'vitaut': 3255, 'nycu190': 30, 'nhirokinet': 719, 'ov37': 718, 'gopal-panigrahi': 156, 'Napulsnik': 24, 'Roseanne02': 144, 'iyutpo': 916, 'nagasu': 503, 'haruncanatali': 305, 'dennisheiden': 24, 'msutic': 222, 'JeromeDevome': 1845, 'LombiqBot': 48, 'jasonold3': 24, 'aryachen': 6, 'antfu': 40502, 'brianjcj': 2404, 'LindaHendricks': 503, 'zurg3': 1449, 'rhdesouza': 28, '1mbir': 12, 'att286': 33, 'Mylapqn': 703, '177amit': 36, 'ehonda': 534, 'FerdinaSK': 28, 'juakiCarbonell': 247, 'integration-vg-ga': 21, 'GoshaTraksel': 40, 'mvlabat': 1693, 'BornaSadeghi': 744, 'Ufaqhaider': 32, 'Chaboddunamis': 36, 'SufeeLatif': 24, 'justinlanejigglesoft': 6, 'leninRessurect': 59, 'DirtyHarryDev': 804, 'VolkerLue': 6, 'kdesysadmin': 3, 'divyagar': 289, 'ViktorKukurba': 665, 'bburns': 5537, 'github-learning-lab[bot]': 0, 'winder': 21908, 'ChefTom': 0, 'DRJavi': 75, 'lvyazi': 1649, 'jmatlock': 156, 'Thunder12345': 87, 'wigyori': 231, 'yolandaruizheras': 6, 'spinningrachel': 3057, 'patriciamv97': 283, 'FireTpen': 57, 'Ankoki-Dev': 208, 'ened': 6240}\n"
     ]
    }
   ],
   "source": [
    "from github_score import CHQScore\n",
    "\n",
    "chqscore = CHQScore('90334a66b767859ae878f8b277d82f19934e8ad5')\n",
    "score_dict = {}\n",
    "\n",
    "num = 0\n",
    "for user in user_subset:\n",
    "    try:\n",
    "        num+=1\n",
    "        print('getting user ', num)\n",
    "        score_dict[user]=chqscore.get_score(user)\n",
    "    except:\n",
    "        pass\n",
    "\n",
    "print(score_dict)"
   ]
  },
  {
   "source": [
    "List all users and score"
   ],
   "cell_type": "markdown",
   "metadata": {}
  },
  {
   "cell_type": "code",
   "execution_count": 20,
   "metadata": {},
   "outputs": [
    {
     "output_type": "stream",
     "name": "stdout",
     "text": [
      "Bohdan-Skyba   143\nsagarmittal1   616\nIndieMusicAtlas   12\ngithub-actions[bot]   0\nZamtakk   527\ncommit-b0t   4382427\nkeksobot   354\nBink-dev   35\nEvgeniyDanisevich   43\npeyang-Celeron   348\nbreakingheatmap   1177837\nYoheiNakamura   54\ntasin-2019331009   88\nmrava87   846\nbartlomieju   1434\nvitaut   3255\nnycu190   30\nnhirokinet   719\nov37   718\ngopal-panigrahi   156\nNapulsnik   24\nRoseanne02   144\niyutpo   916\nnagasu   503\nharuncanatali   305\ndennisheiden   24\nmsutic   222\nJeromeDevome   1845\nLombiqBot   48\njasonold3   24\naryachen   6\nantfu   40502\nbrianjcj   2404\nLindaHendricks   503\nzurg3   1449\nrhdesouza   28\n1mbir   12\natt286   33\nMylapqn   703\n177amit   36\nehonda   534\nFerdinaSK   28\njuakiCarbonell   247\nintegration-vg-ga   21\nGoshaTraksel   40\nmvlabat   1693\nBornaSadeghi   744\nUfaqhaider   32\nChaboddunamis   36\nSufeeLatif   24\njustinlanejigglesoft   6\nleninRessurect   59\nDirtyHarryDev   804\nVolkerLue   6\nkdesysadmin   3\ndivyagar   289\nViktorKukurba   665\nbburns   5537\ngithub-learning-lab[bot]   0\nwinder   21908\nChefTom   0\nDRJavi   75\nlvyazi   1649\njmatlock   156\nThunder12345   87\nwigyori   231\nyolandaruizheras   6\nspinningrachel   3057\npatriciamv97   283\nFireTpen   57\nAnkoki-Dev   208\nened   6240\n"
     ]
    }
   ],
   "source": [
    "for k,v in score_dict.items():\n",
    "    print(k,' ',v)"
   ]
  },
  {
   "source": [
    "## Plot"
   ],
   "cell_type": "markdown",
   "metadata": {}
  },
  {
   "cell_type": "code",
   "execution_count": 28,
   "metadata": {},
   "outputs": [
    {
     "output_type": "stream",
     "name": "stdout",
     "text": [
      "532726.4293198852\n182.0\n78668.02777777778\n"
     ]
    }
   ],
   "source": [
    "import matplotlib\n",
    "import statistics\n",
    "\n",
    "all_scores  = [v for k,v in score_dict.items()]\n",
    "\n",
    "std_dev = statistics.stdev(all_scores)\n",
    "median = statistics.median(all_scores)\n",
    "mean = statistics.mean(all_scores)\n",
    "\n",
    "print(std_dev)\n",
    "print(median)\n",
    "print(mean)"
   ]
  },
  {
   "cell_type": "code",
   "execution_count": 70,
   "metadata": {},
   "outputs": [
    {
     "output_type": "stream",
     "name": "stdout",
     "text": [
      "{0: 8, 1: 2, 2: 8, 3: 7, 4: 3, 5: 3, 6: 0, 7: 1, 8: 2, 9: 0, 10: 0, 11: 0, 12: 0, 13: 0, 14: 2, 15: 2, 16: 0, 17: 0, 18: 0, 19: 0, 20: 1, 21: 0, 22: 1, 23: 1, 24: 1, 25: 0, 26: 0, 27: 0, 28: 2, 29: 0, 30: 1, 31: 0, 32: 0, 33: 0, 34: 1, 35: 1, 36: 0, 37: 0, 38: 0, 39: 0, 40: 0, 41: 0, 42: 0, 43: 0, 44: 0, 45: 0, 46: 0, 47: 0, 48: 0, 49: 0}\n"
     ]
    }
   ],
   "source": [
    "\n",
    "\n",
    "interval = 50\n",
    "max_score = 500\n",
    "chunk = max_score/interval\n",
    "\n",
    "plot_dict = {}\n",
    "\n",
    "for i in range(interval):\n",
    "    freq = 0\n",
    "    for j in all_scores:\n",
    "        if j >=i*(chunk) and j <=(i+1)*chunk:\n",
    "            freq +=1\n",
    "        plot_dict[i] = freq\n",
    "\n",
    "print(plot_dict)"
   ]
  },
  {
   "cell_type": "code",
   "execution_count": 71,
   "metadata": {},
   "outputs": [
    {
     "output_type": "execute_result",
     "data": {
      "text/plain": [
       "<BarContainer object of 50 artists>"
      ]
     },
     "metadata": {},
     "execution_count": 71
    },
    {
     "output_type": "display_data",
     "data": {
      "text/plain": "<Figure size 432x288 with 1 Axes>",
      "image/svg+xml": "<?xml version=\"1.0\" encoding=\"utf-8\" standalone=\"no\"?>\n<!DOCTYPE svg PUBLIC \"-//W3C//DTD SVG 1.1//EN\"\n  \"http://www.w3.org/Graphics/SVG/1.1/DTD/svg11.dtd\">\n<!-- Created with matplotlib (https://matplotlib.org/) -->\n<svg height=\"248.518125pt\" version=\"1.1\" viewBox=\"0 0 362.5625 248.518125\" width=\"362.5625pt\" xmlns=\"http://www.w3.org/2000/svg\" xmlns:xlink=\"http://www.w3.org/1999/xlink\">\n <metadata>\n  <rdf:RDF xmlns:cc=\"http://creativecommons.org/ns#\" xmlns:dc=\"http://purl.org/dc/elements/1.1/\" xmlns:rdf=\"http://www.w3.org/1999/02/22-rdf-syntax-ns#\">\n   <cc:Work>\n    <dc:type rdf:resource=\"http://purl.org/dc/dcmitype/StillImage\"/>\n    <dc:date>2021-01-21T21:21:40.640107</dc:date>\n    <dc:format>image/svg+xml</dc:format>\n    <dc:creator>\n     <cc:Agent>\n      <dc:title>Matplotlib v3.3.3, https://matplotlib.org/</dc:title>\n     </cc:Agent>\n    </dc:creator>\n   </cc:Work>\n  </rdf:RDF>\n </metadata>\n <defs>\n  <style type=\"text/css\">*{stroke-linecap:butt;stroke-linejoin:round;}</style>\n </defs>\n <g id=\"figure_1\">\n  <g id=\"patch_1\">\n   <path d=\"M 0 248.518125 \nL 362.5625 248.518125 \nL 362.5625 0 \nL 0 0 \nz\n\" style=\"fill:none;\"/>\n  </g>\n  <g id=\"axes_1\">\n   <g id=\"patch_2\">\n    <path d=\"M 20.5625 224.64 \nL 355.3625 224.64 \nL 355.3625 7.2 \nL 20.5625 7.2 \nz\n\" style=\"fill:#ffffff;\"/>\n   </g>\n   <g id=\"patch_3\">\n    <path clip-path=\"url(#p78018cbd67)\" d=\"M 35.780682 224.64 \nL 40.670058 224.64 \nL 40.670058 17.554286 \nL 35.780682 17.554286 \nz\n\" style=\"fill:#1f77b4;\"/>\n   </g>\n   <g id=\"patch_4\">\n    <path clip-path=\"url(#p78018cbd67)\" d=\"M 41.892401 224.64 \nL 46.781777 224.64 \nL 46.781777 172.868571 \nL 41.892401 172.868571 \nz\n\" style=\"fill:#1f77b4;\"/>\n   </g>\n   <g id=\"patch_5\">\n    <path clip-path=\"url(#p78018cbd67)\" d=\"M 48.004121 224.64 \nL 52.893497 224.64 \nL 52.893497 17.554286 \nL 48.004121 17.554286 \nz\n\" style=\"fill:#1f77b4;\"/>\n   </g>\n   <g id=\"patch_6\">\n    <path clip-path=\"url(#p78018cbd67)\" d=\"M 54.115841 224.64 \nL 59.005216 224.64 \nL 59.005216 43.44 \nL 54.115841 43.44 \nz\n\" style=\"fill:#1f77b4;\"/>\n   </g>\n   <g id=\"patch_7\">\n    <path clip-path=\"url(#p78018cbd67)\" d=\"M 60.22756 224.64 \nL 65.116936 224.64 \nL 65.116936 146.982857 \nL 60.22756 146.982857 \nz\n\" style=\"fill:#1f77b4;\"/>\n   </g>\n   <g id=\"patch_8\">\n    <path clip-path=\"url(#p78018cbd67)\" d=\"M 66.33928 224.64 \nL 71.228656 224.64 \nL 71.228656 146.982857 \nL 66.33928 146.982857 \nz\n\" style=\"fill:#1f77b4;\"/>\n   </g>\n   <g id=\"patch_9\">\n    <path clip-path=\"url(#p78018cbd67)\" d=\"M 72.450999 224.64 \nL 77.340375 224.64 \nL 77.340375 224.64 \nL 72.450999 224.64 \nz\n\" style=\"fill:#1f77b4;\"/>\n   </g>\n   <g id=\"patch_10\">\n    <path clip-path=\"url(#p78018cbd67)\" d=\"M 78.562719 224.64 \nL 83.452095 224.64 \nL 83.452095 198.754286 \nL 78.562719 198.754286 \nz\n\" style=\"fill:#1f77b4;\"/>\n   </g>\n   <g id=\"patch_11\">\n    <path clip-path=\"url(#p78018cbd67)\" d=\"M 84.674439 224.64 \nL 89.563814 224.64 \nL 89.563814 172.868571 \nL 84.674439 172.868571 \nz\n\" style=\"fill:#1f77b4;\"/>\n   </g>\n   <g id=\"patch_12\">\n    <path clip-path=\"url(#p78018cbd67)\" d=\"M 90.786158 224.64 \nL 95.675534 224.64 \nL 95.675534 224.64 \nL 90.786158 224.64 \nz\n\" style=\"fill:#1f77b4;\"/>\n   </g>\n   <g id=\"patch_13\">\n    <path clip-path=\"url(#p78018cbd67)\" d=\"M 96.897878 224.64 \nL 101.787254 224.64 \nL 101.787254 224.64 \nL 96.897878 224.64 \nz\n\" style=\"fill:#1f77b4;\"/>\n   </g>\n   <g id=\"patch_14\">\n    <path clip-path=\"url(#p78018cbd67)\" d=\"M 103.009597 224.64 \nL 107.898973 224.64 \nL 107.898973 224.64 \nL 103.009597 224.64 \nz\n\" style=\"fill:#1f77b4;\"/>\n   </g>\n   <g id=\"patch_15\">\n    <path clip-path=\"url(#p78018cbd67)\" d=\"M 109.121317 224.64 \nL 114.010693 224.64 \nL 114.010693 224.64 \nL 109.121317 224.64 \nz\n\" style=\"fill:#1f77b4;\"/>\n   </g>\n   <g id=\"patch_16\">\n    <path clip-path=\"url(#p78018cbd67)\" d=\"M 115.233037 224.64 \nL 120.122412 224.64 \nL 120.122412 224.64 \nL 115.233037 224.64 \nz\n\" style=\"fill:#1f77b4;\"/>\n   </g>\n   <g id=\"patch_17\">\n    <path clip-path=\"url(#p78018cbd67)\" d=\"M 121.344756 224.64 \nL 126.234132 224.64 \nL 126.234132 172.868571 \nL 121.344756 172.868571 \nz\n\" style=\"fill:#1f77b4;\"/>\n   </g>\n   <g id=\"patch_18\">\n    <path clip-path=\"url(#p78018cbd67)\" d=\"M 127.456476 224.64 \nL 132.345852 224.64 \nL 132.345852 172.868571 \nL 127.456476 172.868571 \nz\n\" style=\"fill:#1f77b4;\"/>\n   </g>\n   <g id=\"patch_19\">\n    <path clip-path=\"url(#p78018cbd67)\" d=\"M 133.568196 224.64 \nL 138.457571 224.64 \nL 138.457571 224.64 \nL 133.568196 224.64 \nz\n\" style=\"fill:#1f77b4;\"/>\n   </g>\n   <g id=\"patch_20\">\n    <path clip-path=\"url(#p78018cbd67)\" d=\"M 139.679915 224.64 \nL 144.569291 224.64 \nL 144.569291 224.64 \nL 139.679915 224.64 \nz\n\" style=\"fill:#1f77b4;\"/>\n   </g>\n   <g id=\"patch_21\">\n    <path clip-path=\"url(#p78018cbd67)\" d=\"M 145.791635 224.64 \nL 150.68101 224.64 \nL 150.68101 224.64 \nL 145.791635 224.64 \nz\n\" style=\"fill:#1f77b4;\"/>\n   </g>\n   <g id=\"patch_22\">\n    <path clip-path=\"url(#p78018cbd67)\" d=\"M 151.903354 224.64 \nL 156.79273 224.64 \nL 156.79273 224.64 \nL 151.903354 224.64 \nz\n\" style=\"fill:#1f77b4;\"/>\n   </g>\n   <g id=\"patch_23\">\n    <path clip-path=\"url(#p78018cbd67)\" d=\"M 158.015074 224.64 \nL 162.90445 224.64 \nL 162.90445 198.754286 \nL 158.015074 198.754286 \nz\n\" style=\"fill:#1f77b4;\"/>\n   </g>\n   <g id=\"patch_24\">\n    <path clip-path=\"url(#p78018cbd67)\" d=\"M 164.126794 224.64 \nL 169.016169 224.64 \nL 169.016169 224.64 \nL 164.126794 224.64 \nz\n\" style=\"fill:#1f77b4;\"/>\n   </g>\n   <g id=\"patch_25\">\n    <path clip-path=\"url(#p78018cbd67)\" d=\"M 170.238513 224.64 \nL 175.127889 224.64 \nL 175.127889 198.754286 \nL 170.238513 198.754286 \nz\n\" style=\"fill:#1f77b4;\"/>\n   </g>\n   <g id=\"patch_26\">\n    <path clip-path=\"url(#p78018cbd67)\" d=\"M 176.350233 224.64 \nL 181.239608 224.64 \nL 181.239608 198.754286 \nL 176.350233 198.754286 \nz\n\" style=\"fill:#1f77b4;\"/>\n   </g>\n   <g id=\"patch_27\">\n    <path clip-path=\"url(#p78018cbd67)\" d=\"M 182.461952 224.64 \nL 187.351328 224.64 \nL 187.351328 198.754286 \nL 182.461952 198.754286 \nz\n\" style=\"fill:#1f77b4;\"/>\n   </g>\n   <g id=\"patch_28\">\n    <path clip-path=\"url(#p78018cbd67)\" d=\"M 188.573672 224.64 \nL 193.463048 224.64 \nL 193.463048 224.64 \nL 188.573672 224.64 \nz\n\" style=\"fill:#1f77b4;\"/>\n   </g>\n   <g id=\"patch_29\">\n    <path clip-path=\"url(#p78018cbd67)\" d=\"M 194.685392 224.64 \nL 199.574767 224.64 \nL 199.574767 224.64 \nL 194.685392 224.64 \nz\n\" style=\"fill:#1f77b4;\"/>\n   </g>\n   <g id=\"patch_30\">\n    <path clip-path=\"url(#p78018cbd67)\" d=\"M 200.797111 224.64 \nL 205.686487 224.64 \nL 205.686487 224.64 \nL 200.797111 224.64 \nz\n\" style=\"fill:#1f77b4;\"/>\n   </g>\n   <g id=\"patch_31\">\n    <path clip-path=\"url(#p78018cbd67)\" d=\"M 206.908831 224.64 \nL 211.798206 224.64 \nL 211.798206 172.868571 \nL 206.908831 172.868571 \nz\n\" style=\"fill:#1f77b4;\"/>\n   </g>\n   <g id=\"patch_32\">\n    <path clip-path=\"url(#p78018cbd67)\" d=\"M 213.02055 224.64 \nL 217.909926 224.64 \nL 217.909926 224.64 \nL 213.02055 224.64 \nz\n\" style=\"fill:#1f77b4;\"/>\n   </g>\n   <g id=\"patch_33\">\n    <path clip-path=\"url(#p78018cbd67)\" d=\"M 219.13227 224.64 \nL 224.021646 224.64 \nL 224.021646 198.754286 \nL 219.13227 198.754286 \nz\n\" style=\"fill:#1f77b4;\"/>\n   </g>\n   <g id=\"patch_34\">\n    <path clip-path=\"url(#p78018cbd67)\" d=\"M 225.24399 224.64 \nL 230.133365 224.64 \nL 230.133365 224.64 \nL 225.24399 224.64 \nz\n\" style=\"fill:#1f77b4;\"/>\n   </g>\n   <g id=\"patch_35\">\n    <path clip-path=\"url(#p78018cbd67)\" d=\"M 231.355709 224.64 \nL 236.245085 224.64 \nL 236.245085 224.64 \nL 231.355709 224.64 \nz\n\" style=\"fill:#1f77b4;\"/>\n   </g>\n   <g id=\"patch_36\">\n    <path clip-path=\"url(#p78018cbd67)\" d=\"M 237.467429 224.64 \nL 242.356804 224.64 \nL 242.356804 224.64 \nL 237.467429 224.64 \nz\n\" style=\"fill:#1f77b4;\"/>\n   </g>\n   <g id=\"patch_37\">\n    <path clip-path=\"url(#p78018cbd67)\" d=\"M 243.579148 224.64 \nL 248.468524 224.64 \nL 248.468524 198.754286 \nL 243.579148 198.754286 \nz\n\" style=\"fill:#1f77b4;\"/>\n   </g>\n   <g id=\"patch_38\">\n    <path clip-path=\"url(#p78018cbd67)\" d=\"M 249.690868 224.64 \nL 254.580244 224.64 \nL 254.580244 198.754286 \nL 249.690868 198.754286 \nz\n\" style=\"fill:#1f77b4;\"/>\n   </g>\n   <g id=\"patch_39\">\n    <path clip-path=\"url(#p78018cbd67)\" d=\"M 255.802588 224.64 \nL 260.691963 224.64 \nL 260.691963 224.64 \nL 255.802588 224.64 \nz\n\" style=\"fill:#1f77b4;\"/>\n   </g>\n   <g id=\"patch_40\">\n    <path clip-path=\"url(#p78018cbd67)\" d=\"M 261.914307 224.64 \nL 266.803683 224.64 \nL 266.803683 224.64 \nL 261.914307 224.64 \nz\n\" style=\"fill:#1f77b4;\"/>\n   </g>\n   <g id=\"patch_41\">\n    <path clip-path=\"url(#p78018cbd67)\" d=\"M 268.026027 224.64 \nL 272.915403 224.64 \nL 272.915403 224.64 \nL 268.026027 224.64 \nz\n\" style=\"fill:#1f77b4;\"/>\n   </g>\n   <g id=\"patch_42\">\n    <path clip-path=\"url(#p78018cbd67)\" d=\"M 274.137746 224.64 \nL 279.027122 224.64 \nL 279.027122 224.64 \nL 274.137746 224.64 \nz\n\" style=\"fill:#1f77b4;\"/>\n   </g>\n   <g id=\"patch_43\">\n    <path clip-path=\"url(#p78018cbd67)\" d=\"M 280.249466 224.64 \nL 285.138842 224.64 \nL 285.138842 224.64 \nL 280.249466 224.64 \nz\n\" style=\"fill:#1f77b4;\"/>\n   </g>\n   <g id=\"patch_44\">\n    <path clip-path=\"url(#p78018cbd67)\" d=\"M 286.361186 224.64 \nL 291.250561 224.64 \nL 291.250561 224.64 \nL 286.361186 224.64 \nz\n\" style=\"fill:#1f77b4;\"/>\n   </g>\n   <g id=\"patch_45\">\n    <path clip-path=\"url(#p78018cbd67)\" d=\"M 292.472905 224.64 \nL 297.362281 224.64 \nL 297.362281 224.64 \nL 292.472905 224.64 \nz\n\" style=\"fill:#1f77b4;\"/>\n   </g>\n   <g id=\"patch_46\">\n    <path clip-path=\"url(#p78018cbd67)\" d=\"M 298.584625 224.64 \nL 303.474001 224.64 \nL 303.474001 224.64 \nL 298.584625 224.64 \nz\n\" style=\"fill:#1f77b4;\"/>\n   </g>\n   <g id=\"patch_47\">\n    <path clip-path=\"url(#p78018cbd67)\" d=\"M 304.696344 224.64 \nL 309.58572 224.64 \nL 309.58572 224.64 \nL 304.696344 224.64 \nz\n\" style=\"fill:#1f77b4;\"/>\n   </g>\n   <g id=\"patch_48\">\n    <path clip-path=\"url(#p78018cbd67)\" d=\"M 310.808064 224.64 \nL 315.69744 224.64 \nL 315.69744 224.64 \nL 310.808064 224.64 \nz\n\" style=\"fill:#1f77b4;\"/>\n   </g>\n   <g id=\"patch_49\">\n    <path clip-path=\"url(#p78018cbd67)\" d=\"M 316.919784 224.64 \nL 321.809159 224.64 \nL 321.809159 224.64 \nL 316.919784 224.64 \nz\n\" style=\"fill:#1f77b4;\"/>\n   </g>\n   <g id=\"patch_50\">\n    <path clip-path=\"url(#p78018cbd67)\" d=\"M 323.031503 224.64 \nL 327.920879 224.64 \nL 327.920879 224.64 \nL 323.031503 224.64 \nz\n\" style=\"fill:#1f77b4;\"/>\n   </g>\n   <g id=\"patch_51\">\n    <path clip-path=\"url(#p78018cbd67)\" d=\"M 329.143223 224.64 \nL 334.032599 224.64 \nL 334.032599 224.64 \nL 329.143223 224.64 \nz\n\" style=\"fill:#1f77b4;\"/>\n   </g>\n   <g id=\"patch_52\">\n    <path clip-path=\"url(#p78018cbd67)\" d=\"M 335.254942 224.64 \nL 340.144318 224.64 \nL 340.144318 224.64 \nL 335.254942 224.64 \nz\n\" style=\"fill:#1f77b4;\"/>\n   </g>\n   <g id=\"matplotlib.axis_1\">\n    <g id=\"xtick_1\">\n     <g id=\"line2d_1\">\n      <defs>\n       <path d=\"M 0 0 \nL 0 3.5 \n\" id=\"mcde4d31b5a\" style=\"stroke:#000000;stroke-width:0.8;\"/>\n      </defs>\n      <g>\n       <use style=\"stroke:#000000;stroke-width:0.8;\" x=\"38.22537\" xlink:href=\"#mcde4d31b5a\" y=\"224.64\"/>\n      </g>\n     </g>\n     <g id=\"text_1\">\n      <!-- 0 -->\n      <g transform=\"translate(35.04412 239.238437)scale(0.1 -0.1)\">\n       <defs>\n        <path d=\"M 31.78125 66.40625 \nQ 24.171875 66.40625 20.328125 58.90625 \nQ 16.5 51.421875 16.5 36.375 \nQ 16.5 21.390625 20.328125 13.890625 \nQ 24.171875 6.390625 31.78125 6.390625 \nQ 39.453125 6.390625 43.28125 13.890625 \nQ 47.125 21.390625 47.125 36.375 \nQ 47.125 51.421875 43.28125 58.90625 \nQ 39.453125 66.40625 31.78125 66.40625 \nz\nM 31.78125 74.21875 \nQ 44.046875 74.21875 50.515625 64.515625 \nQ 56.984375 54.828125 56.984375 36.375 \nQ 56.984375 17.96875 50.515625 8.265625 \nQ 44.046875 -1.421875 31.78125 -1.421875 \nQ 19.53125 -1.421875 13.0625 8.265625 \nQ 6.59375 17.96875 6.59375 36.375 \nQ 6.59375 54.828125 13.0625 64.515625 \nQ 19.53125 74.21875 31.78125 74.21875 \nz\n\" id=\"DejaVuSans-48\"/>\n       </defs>\n       <use xlink:href=\"#DejaVuSans-48\"/>\n      </g>\n     </g>\n    </g>\n    <g id=\"xtick_2\">\n     <g id=\"line2d_2\">\n      <g>\n       <use style=\"stroke:#000000;stroke-width:0.8;\" x=\"99.342566\" xlink:href=\"#mcde4d31b5a\" y=\"224.64\"/>\n      </g>\n     </g>\n     <g id=\"text_2\">\n      <!-- 10 -->\n      <g transform=\"translate(92.980066 239.238437)scale(0.1 -0.1)\">\n       <defs>\n        <path d=\"M 12.40625 8.296875 \nL 28.515625 8.296875 \nL 28.515625 63.921875 \nL 10.984375 60.40625 \nL 10.984375 69.390625 \nL 28.421875 72.90625 \nL 38.28125 72.90625 \nL 38.28125 8.296875 \nL 54.390625 8.296875 \nL 54.390625 0 \nL 12.40625 0 \nz\n\" id=\"DejaVuSans-49\"/>\n       </defs>\n       <use xlink:href=\"#DejaVuSans-49\"/>\n       <use x=\"63.623047\" xlink:href=\"#DejaVuSans-48\"/>\n      </g>\n     </g>\n    </g>\n    <g id=\"xtick_3\">\n     <g id=\"line2d_3\">\n      <g>\n       <use style=\"stroke:#000000;stroke-width:0.8;\" x=\"160.459762\" xlink:href=\"#mcde4d31b5a\" y=\"224.64\"/>\n      </g>\n     </g>\n     <g id=\"text_3\">\n      <!-- 20 -->\n      <g transform=\"translate(154.097262 239.238437)scale(0.1 -0.1)\">\n       <defs>\n        <path d=\"M 19.1875 8.296875 \nL 53.609375 8.296875 \nL 53.609375 0 \nL 7.328125 0 \nL 7.328125 8.296875 \nQ 12.9375 14.109375 22.625 23.890625 \nQ 32.328125 33.6875 34.8125 36.53125 \nQ 39.546875 41.84375 41.421875 45.53125 \nQ 43.3125 49.21875 43.3125 52.78125 \nQ 43.3125 58.59375 39.234375 62.25 \nQ 35.15625 65.921875 28.609375 65.921875 \nQ 23.96875 65.921875 18.8125 64.3125 \nQ 13.671875 62.703125 7.8125 59.421875 \nL 7.8125 69.390625 \nQ 13.765625 71.78125 18.9375 73 \nQ 24.125 74.21875 28.421875 74.21875 \nQ 39.75 74.21875 46.484375 68.546875 \nQ 53.21875 62.890625 53.21875 53.421875 \nQ 53.21875 48.921875 51.53125 44.890625 \nQ 49.859375 40.875 45.40625 35.40625 \nQ 44.1875 33.984375 37.640625 27.21875 \nQ 31.109375 20.453125 19.1875 8.296875 \nz\n\" id=\"DejaVuSans-50\"/>\n       </defs>\n       <use xlink:href=\"#DejaVuSans-50\"/>\n       <use x=\"63.623047\" xlink:href=\"#DejaVuSans-48\"/>\n      </g>\n     </g>\n    </g>\n    <g id=\"xtick_4\">\n     <g id=\"line2d_4\">\n      <g>\n       <use style=\"stroke:#000000;stroke-width:0.8;\" x=\"221.576958\" xlink:href=\"#mcde4d31b5a\" y=\"224.64\"/>\n      </g>\n     </g>\n     <g id=\"text_4\">\n      <!-- 30 -->\n      <g transform=\"translate(215.214458 239.238437)scale(0.1 -0.1)\">\n       <defs>\n        <path d=\"M 40.578125 39.3125 \nQ 47.65625 37.796875 51.625 33 \nQ 55.609375 28.21875 55.609375 21.1875 \nQ 55.609375 10.40625 48.1875 4.484375 \nQ 40.765625 -1.421875 27.09375 -1.421875 \nQ 22.515625 -1.421875 17.65625 -0.515625 \nQ 12.796875 0.390625 7.625 2.203125 \nL 7.625 11.71875 \nQ 11.71875 9.328125 16.59375 8.109375 \nQ 21.484375 6.890625 26.8125 6.890625 \nQ 36.078125 6.890625 40.9375 10.546875 \nQ 45.796875 14.203125 45.796875 21.1875 \nQ 45.796875 27.640625 41.28125 31.265625 \nQ 36.765625 34.90625 28.71875 34.90625 \nL 20.21875 34.90625 \nL 20.21875 43.015625 \nL 29.109375 43.015625 \nQ 36.375 43.015625 40.234375 45.921875 \nQ 44.09375 48.828125 44.09375 54.296875 \nQ 44.09375 59.90625 40.109375 62.90625 \nQ 36.140625 65.921875 28.71875 65.921875 \nQ 24.65625 65.921875 20.015625 65.03125 \nQ 15.375 64.15625 9.8125 62.3125 \nL 9.8125 71.09375 \nQ 15.4375 72.65625 20.34375 73.4375 \nQ 25.25 74.21875 29.59375 74.21875 \nQ 40.828125 74.21875 47.359375 69.109375 \nQ 53.90625 64.015625 53.90625 55.328125 \nQ 53.90625 49.265625 50.4375 45.09375 \nQ 46.96875 40.921875 40.578125 39.3125 \nz\n\" id=\"DejaVuSans-51\"/>\n       </defs>\n       <use xlink:href=\"#DejaVuSans-51\"/>\n       <use x=\"63.623047\" xlink:href=\"#DejaVuSans-48\"/>\n      </g>\n     </g>\n    </g>\n    <g id=\"xtick_5\">\n     <g id=\"line2d_5\">\n      <g>\n       <use style=\"stroke:#000000;stroke-width:0.8;\" x=\"282.694154\" xlink:href=\"#mcde4d31b5a\" y=\"224.64\"/>\n      </g>\n     </g>\n     <g id=\"text_5\">\n      <!-- 40 -->\n      <g transform=\"translate(276.331654 239.238437)scale(0.1 -0.1)\">\n       <defs>\n        <path d=\"M 37.796875 64.3125 \nL 12.890625 25.390625 \nL 37.796875 25.390625 \nz\nM 35.203125 72.90625 \nL 47.609375 72.90625 \nL 47.609375 25.390625 \nL 58.015625 25.390625 \nL 58.015625 17.1875 \nL 47.609375 17.1875 \nL 47.609375 0 \nL 37.796875 0 \nL 37.796875 17.1875 \nL 4.890625 17.1875 \nL 4.890625 26.703125 \nz\n\" id=\"DejaVuSans-52\"/>\n       </defs>\n       <use xlink:href=\"#DejaVuSans-52\"/>\n       <use x=\"63.623047\" xlink:href=\"#DejaVuSans-48\"/>\n      </g>\n     </g>\n    </g>\n    <g id=\"xtick_6\">\n     <g id=\"line2d_6\">\n      <g>\n       <use style=\"stroke:#000000;stroke-width:0.8;\" x=\"343.81135\" xlink:href=\"#mcde4d31b5a\" y=\"224.64\"/>\n      </g>\n     </g>\n     <g id=\"text_6\">\n      <!-- 50 -->\n      <g transform=\"translate(337.44885 239.238437)scale(0.1 -0.1)\">\n       <defs>\n        <path d=\"M 10.796875 72.90625 \nL 49.515625 72.90625 \nL 49.515625 64.59375 \nL 19.828125 64.59375 \nL 19.828125 46.734375 \nQ 21.96875 47.46875 24.109375 47.828125 \nQ 26.265625 48.1875 28.421875 48.1875 \nQ 40.625 48.1875 47.75 41.5 \nQ 54.890625 34.8125 54.890625 23.390625 \nQ 54.890625 11.625 47.5625 5.09375 \nQ 40.234375 -1.421875 26.90625 -1.421875 \nQ 22.3125 -1.421875 17.546875 -0.640625 \nQ 12.796875 0.140625 7.71875 1.703125 \nL 7.71875 11.625 \nQ 12.109375 9.234375 16.796875 8.0625 \nQ 21.484375 6.890625 26.703125 6.890625 \nQ 35.15625 6.890625 40.078125 11.328125 \nQ 45.015625 15.765625 45.015625 23.390625 \nQ 45.015625 31 40.078125 35.4375 \nQ 35.15625 39.890625 26.703125 39.890625 \nQ 22.75 39.890625 18.8125 39.015625 \nQ 14.890625 38.140625 10.796875 36.28125 \nz\n\" id=\"DejaVuSans-53\"/>\n       </defs>\n       <use xlink:href=\"#DejaVuSans-53\"/>\n       <use x=\"63.623047\" xlink:href=\"#DejaVuSans-48\"/>\n      </g>\n     </g>\n    </g>\n   </g>\n   <g id=\"matplotlib.axis_2\">\n    <g id=\"ytick_1\">\n     <g id=\"line2d_7\">\n      <defs>\n       <path d=\"M 0 0 \nL -3.5 0 \n\" id=\"m120943c595\" style=\"stroke:#000000;stroke-width:0.8;\"/>\n      </defs>\n      <g>\n       <use style=\"stroke:#000000;stroke-width:0.8;\" x=\"20.5625\" xlink:href=\"#m120943c595\" y=\"224.64\"/>\n      </g>\n     </g>\n     <g id=\"text_7\">\n      <!-- 0 -->\n      <g transform=\"translate(7.2 228.439219)scale(0.1 -0.1)\">\n       <use xlink:href=\"#DejaVuSans-48\"/>\n      </g>\n     </g>\n    </g>\n    <g id=\"ytick_2\">\n     <g id=\"line2d_8\">\n      <g>\n       <use style=\"stroke:#000000;stroke-width:0.8;\" x=\"20.5625\" xlink:href=\"#m120943c595\" y=\"198.754286\"/>\n      </g>\n     </g>\n     <g id=\"text_8\">\n      <!-- 1 -->\n      <g transform=\"translate(7.2 202.553504)scale(0.1 -0.1)\">\n       <use xlink:href=\"#DejaVuSans-49\"/>\n      </g>\n     </g>\n    </g>\n    <g id=\"ytick_3\">\n     <g id=\"line2d_9\">\n      <g>\n       <use style=\"stroke:#000000;stroke-width:0.8;\" x=\"20.5625\" xlink:href=\"#m120943c595\" y=\"172.868571\"/>\n      </g>\n     </g>\n     <g id=\"text_9\">\n      <!-- 2 -->\n      <g transform=\"translate(7.2 176.66779)scale(0.1 -0.1)\">\n       <use xlink:href=\"#DejaVuSans-50\"/>\n      </g>\n     </g>\n    </g>\n    <g id=\"ytick_4\">\n     <g id=\"line2d_10\">\n      <g>\n       <use style=\"stroke:#000000;stroke-width:0.8;\" x=\"20.5625\" xlink:href=\"#m120943c595\" y=\"146.982857\"/>\n      </g>\n     </g>\n     <g id=\"text_10\">\n      <!-- 3 -->\n      <g transform=\"translate(7.2 150.782076)scale(0.1 -0.1)\">\n       <use xlink:href=\"#DejaVuSans-51\"/>\n      </g>\n     </g>\n    </g>\n    <g id=\"ytick_5\">\n     <g id=\"line2d_11\">\n      <g>\n       <use style=\"stroke:#000000;stroke-width:0.8;\" x=\"20.5625\" xlink:href=\"#m120943c595\" y=\"121.097143\"/>\n      </g>\n     </g>\n     <g id=\"text_11\">\n      <!-- 4 -->\n      <g transform=\"translate(7.2 124.896362)scale(0.1 -0.1)\">\n       <use xlink:href=\"#DejaVuSans-52\"/>\n      </g>\n     </g>\n    </g>\n    <g id=\"ytick_6\">\n     <g id=\"line2d_12\">\n      <g>\n       <use style=\"stroke:#000000;stroke-width:0.8;\" x=\"20.5625\" xlink:href=\"#m120943c595\" y=\"95.211429\"/>\n      </g>\n     </g>\n     <g id=\"text_12\">\n      <!-- 5 -->\n      <g transform=\"translate(7.2 99.010647)scale(0.1 -0.1)\">\n       <use xlink:href=\"#DejaVuSans-53\"/>\n      </g>\n     </g>\n    </g>\n    <g id=\"ytick_7\">\n     <g id=\"line2d_13\">\n      <g>\n       <use style=\"stroke:#000000;stroke-width:0.8;\" x=\"20.5625\" xlink:href=\"#m120943c595\" y=\"69.325714\"/>\n      </g>\n     </g>\n     <g id=\"text_13\">\n      <!-- 6 -->\n      <g transform=\"translate(7.2 73.124933)scale(0.1 -0.1)\">\n       <defs>\n        <path d=\"M 33.015625 40.375 \nQ 26.375 40.375 22.484375 35.828125 \nQ 18.609375 31.296875 18.609375 23.390625 \nQ 18.609375 15.53125 22.484375 10.953125 \nQ 26.375 6.390625 33.015625 6.390625 \nQ 39.65625 6.390625 43.53125 10.953125 \nQ 47.40625 15.53125 47.40625 23.390625 \nQ 47.40625 31.296875 43.53125 35.828125 \nQ 39.65625 40.375 33.015625 40.375 \nz\nM 52.59375 71.296875 \nL 52.59375 62.3125 \nQ 48.875 64.0625 45.09375 64.984375 \nQ 41.3125 65.921875 37.59375 65.921875 \nQ 27.828125 65.921875 22.671875 59.328125 \nQ 17.53125 52.734375 16.796875 39.40625 \nQ 19.671875 43.65625 24.015625 45.921875 \nQ 28.375 48.1875 33.59375 48.1875 \nQ 44.578125 48.1875 50.953125 41.515625 \nQ 57.328125 34.859375 57.328125 23.390625 \nQ 57.328125 12.15625 50.6875 5.359375 \nQ 44.046875 -1.421875 33.015625 -1.421875 \nQ 20.359375 -1.421875 13.671875 8.265625 \nQ 6.984375 17.96875 6.984375 36.375 \nQ 6.984375 53.65625 15.1875 63.9375 \nQ 23.390625 74.21875 37.203125 74.21875 \nQ 40.921875 74.21875 44.703125 73.484375 \nQ 48.484375 72.75 52.59375 71.296875 \nz\n\" id=\"DejaVuSans-54\"/>\n       </defs>\n       <use xlink:href=\"#DejaVuSans-54\"/>\n      </g>\n     </g>\n    </g>\n    <g id=\"ytick_8\">\n     <g id=\"line2d_14\">\n      <g>\n       <use style=\"stroke:#000000;stroke-width:0.8;\" x=\"20.5625\" xlink:href=\"#m120943c595\" y=\"43.44\"/>\n      </g>\n     </g>\n     <g id=\"text_14\">\n      <!-- 7 -->\n      <g transform=\"translate(7.2 47.239219)scale(0.1 -0.1)\">\n       <defs>\n        <path d=\"M 8.203125 72.90625 \nL 55.078125 72.90625 \nL 55.078125 68.703125 \nL 28.609375 0 \nL 18.3125 0 \nL 43.21875 64.59375 \nL 8.203125 64.59375 \nz\n\" id=\"DejaVuSans-55\"/>\n       </defs>\n       <use xlink:href=\"#DejaVuSans-55\"/>\n      </g>\n     </g>\n    </g>\n    <g id=\"ytick_9\">\n     <g id=\"line2d_15\">\n      <g>\n       <use style=\"stroke:#000000;stroke-width:0.8;\" x=\"20.5625\" xlink:href=\"#m120943c595\" y=\"17.554286\"/>\n      </g>\n     </g>\n     <g id=\"text_15\">\n      <!-- 8 -->\n      <g transform=\"translate(7.2 21.353504)scale(0.1 -0.1)\">\n       <defs>\n        <path d=\"M 31.78125 34.625 \nQ 24.75 34.625 20.71875 30.859375 \nQ 16.703125 27.09375 16.703125 20.515625 \nQ 16.703125 13.921875 20.71875 10.15625 \nQ 24.75 6.390625 31.78125 6.390625 \nQ 38.8125 6.390625 42.859375 10.171875 \nQ 46.921875 13.96875 46.921875 20.515625 \nQ 46.921875 27.09375 42.890625 30.859375 \nQ 38.875 34.625 31.78125 34.625 \nz\nM 21.921875 38.8125 \nQ 15.578125 40.375 12.03125 44.71875 \nQ 8.5 49.078125 8.5 55.328125 \nQ 8.5 64.0625 14.71875 69.140625 \nQ 20.953125 74.21875 31.78125 74.21875 \nQ 42.671875 74.21875 48.875 69.140625 \nQ 55.078125 64.0625 55.078125 55.328125 \nQ 55.078125 49.078125 51.53125 44.71875 \nQ 48 40.375 41.703125 38.8125 \nQ 48.828125 37.15625 52.796875 32.3125 \nQ 56.78125 27.484375 56.78125 20.515625 \nQ 56.78125 9.90625 50.3125 4.234375 \nQ 43.84375 -1.421875 31.78125 -1.421875 \nQ 19.734375 -1.421875 13.25 4.234375 \nQ 6.78125 9.90625 6.78125 20.515625 \nQ 6.78125 27.484375 10.78125 32.3125 \nQ 14.796875 37.15625 21.921875 38.8125 \nz\nM 18.3125 54.390625 \nQ 18.3125 48.734375 21.84375 45.5625 \nQ 25.390625 42.390625 31.78125 42.390625 \nQ 38.140625 42.390625 41.71875 45.5625 \nQ 45.3125 48.734375 45.3125 54.390625 \nQ 45.3125 60.0625 41.71875 63.234375 \nQ 38.140625 66.40625 31.78125 66.40625 \nQ 25.390625 66.40625 21.84375 63.234375 \nQ 18.3125 60.0625 18.3125 54.390625 \nz\n\" id=\"DejaVuSans-56\"/>\n       </defs>\n       <use xlink:href=\"#DejaVuSans-56\"/>\n      </g>\n     </g>\n    </g>\n   </g>\n   <g id=\"patch_53\">\n    <path d=\"M 20.5625 224.64 \nL 20.5625 7.2 \n\" style=\"fill:none;stroke:#000000;stroke-linecap:square;stroke-linejoin:miter;stroke-width:0.8;\"/>\n   </g>\n   <g id=\"patch_54\">\n    <path d=\"M 355.3625 224.64 \nL 355.3625 7.2 \n\" style=\"fill:none;stroke:#000000;stroke-linecap:square;stroke-linejoin:miter;stroke-width:0.8;\"/>\n   </g>\n   <g id=\"patch_55\">\n    <path d=\"M 20.5625 224.64 \nL 355.3625 224.64 \n\" style=\"fill:none;stroke:#000000;stroke-linecap:square;stroke-linejoin:miter;stroke-width:0.8;\"/>\n   </g>\n   <g id=\"patch_56\">\n    <path d=\"M 20.5625 7.2 \nL 355.3625 7.2 \n\" style=\"fill:none;stroke:#000000;stroke-linecap:square;stroke-linejoin:miter;stroke-width:0.8;\"/>\n   </g>\n  </g>\n </g>\n <defs>\n  <clipPath id=\"p78018cbd67\">\n   <rect height=\"217.44\" width=\"334.8\" x=\"20.5625\" y=\"7.2\"/>\n  </clipPath>\n </defs>\n</svg>\n",
      "image/png": "[encoded data removed]"
     },
     "metadata": {
      "needs_background": "light"
     }
    }
   ],
   "source": [
    "import matplotlib.pyplot as plt\n",
    "\n",
    "x = [k for k,v in plot_dict.items()]\n",
    "y = [v for k,v in plot_dict.items()]\n",
    "\n",
    "plt.bar(x,y)"
   ]
  },
  {
   "cell_type": "code",
   "execution_count": null,
   "metadata": {},
   "outputs": [],
   "source": []
  }
 ]
}