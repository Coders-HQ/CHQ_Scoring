{
 "metadata": {
  "language_info": {
   "codemirror_mode": {
    "name": "ipython",
    "version": 3
   },
   "file_extension": ".py",
   "mimetype": "text/x-python",
   "name": "python",
   "nbconvert_exporter": "python",
   "pygments_lexer": "ipython3",
   "version": "3.8.5-final"
  },
  "orig_nbformat": 2,
  "kernelspec": {
   "name": "python3",
   "display_name": "Python 3",
   "language": "python"
  }
 },
 "nbformat": 4,
 "nbformat_minor": 2,
 "cells": [
  {
   "source": [
    "# Github Archive\n",
    "\n",
    "Github archive (GA) is a website where they save all Github events every hour. These can be downloaded per hour from the website.\n",
    "\n",
    "- Activity archives are available starting 2/12/2011.\n",
    "- Activity archives for dates between 2/12/2011-12/31/2014 was recorded from the (now deprecated) Timeline API.\n",
    "- Activity archives for dates starting 1/1/2015 is recorded from the Events API.\n"
   ],
   "cell_type": "markdown",
   "metadata": {}
  },
  {
   "source": [
    "## Download and clean up data\n",
    "\n",
    "Download all GA events at 17/1/2021 @ 3PM UTC"
   ],
   "cell_type": "markdown",
   "metadata": {}
  },
  {
   "cell_type": "code",
   "execution_count": null,
   "metadata": {},
   "outputs": [],
   "source": [
    "import requests\n",
    "from pathlib import Path\n",
    "\n",
    "date = \"2021-01-17-15.json.gz\"\n",
    "url = 'https://data.gharchive.org/' + date\n",
    "r = requests.get(url, allow_redirects=True)\n",
    "open(date, 'wb').write(r.content)\n",
    "\n",
    "print('size is ',Path(date).stat().st_size)"
   ]
  },
  {
   "source": [
    "Unzip compressed file and read first entry"
   ],
   "cell_type": "markdown",
   "metadata": {}
  },
  {
   "cell_type": "code",
   "execution_count": null,
   "metadata": {
    "tags": []
   },
   "outputs": [],
   "source": [
    "import gzip\n",
    "import os\n",
    "import jsonlines\n",
    "\n",
    "\n",
    "date = \"2021-01-17-15.json.gz\"\n",
    "with gzip.open(date,'rb') as reader:\n",
    "    with open('test.txt', 'w+') as f:\n",
    "        reader = jsonlines.Reader(reader)\n",
    "        for obj in reader:\n",
    "            f.write(obj['actor']['login']+'\\n')\n"
   ]
  },
  {
   "source": [
    "Choose sample of users (only 100)"
   ],
   "cell_type": "markdown",
   "metadata": {}
  },
  {
   "cell_type": "code",
   "execution_count": null,
   "metadata": {},
   "outputs": [],
   "source": [
    "with open('test.txt') as f:\n",
    "    users = f.readlines()\n",
    "    \n",
    "\n",
    "user_subset = users[50000:50100]\n",
    "user_subset = [user.strip('\\n') for user in user_subset]\n",
    "print(user_subset)"
   ]
  },
  {
   "source": [
    "Get score per user and saved to variable"
   ],
   "cell_type": "markdown",
   "metadata": {}
  },
  {
   "cell_type": "code",
   "execution_count": null,
   "metadata": {},
   "outputs": [],
   "source": [
    "import time\n",
    "import concurrent.futures\n",
    "\n",
    "\n",
    "from github_score import CHQScore\n",
    "\n",
    "# create chq score object\n",
    "chqscore = CHQScore()\n",
    "num = 0\n",
    "\n",
    "print(chqscore.get_scores(user_subset))\n"
   ]
  },
  {
   "source": [
    "List all users and score"
   ],
   "cell_type": "markdown",
   "metadata": {}
  },
  {
   "cell_type": "code",
   "execution_count": null,
   "metadata": {},
   "outputs": [],
   "source": [
    "for k,v in score_dict.items():\n",
    "    print(k,' ',v)"
   ]
  },
  {
   "source": [
    "## Plot"
   ],
   "cell_type": "markdown",
   "metadata": {}
  },
  {
   "cell_type": "code",
   "execution_count": null,
   "metadata": {},
   "outputs": [],
   "source": [
    "import matplotlib\n",
    "\n",
    "all_scores  = [v for k,v in score_dict.items()]\n",
    "\n",
    "interval = 50\n",
    "max_score = 1000\n",
    "chunk = max_score/interval\n",
    "\n",
    "plot_dict = {}\n",
    "\n",
    "for i in range(interval):\n",
    "    freq = 0\n",
    "    for j in all_scores:\n",
    "        if j >=i*(chunk) and j <=(i+1)*chunk:\n",
    "            freq +=1\n",
    "        plot_dict[i+1] = freq\n"
   ]
  },
  {
   "cell_type": "code",
   "execution_count": null,
   "metadata": {},
   "outputs": [],
   "source": [
    "import matplotlib.pyplot as plt\n",
    "\n",
    "x = [k for k,v in plot_dict.items()]\n",
    "y = [v for k,v in plot_dict.items()]\n",
    "\n",
    "print('Chunk size', chunk)\n",
    "plt.bar(x,y)\n",
    "print(plot_dict)\n"
   ]
  },
  {
   "cell_type": "code",
   "execution_count": null,
   "metadata": {},
   "outputs": [],
   "source": []
  }
 ]
}