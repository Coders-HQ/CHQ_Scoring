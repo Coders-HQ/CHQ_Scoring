{
 "metadata": {
  "language_info": {
   "codemirror_mode": {
    "name": "ipython",
    "version": 3
   },
   "file_extension": ".py",
   "mimetype": "text/x-python",
   "name": "python",
   "nbconvert_exporter": "python",
   "pygments_lexer": "ipython3",
   "version": "3.8.5-final"
  },
  "orig_nbformat": 2,
  "kernelspec": {
   "name": "python3",
   "display_name": "Python 3",
   "language": "python"
  }
 },
 "nbformat": 4,
 "nbformat_minor": 2,
 "cells": [
  {
   "source": [
    "# Github Archive\n",
    "\n",
    "Github archive (GA) is a website where they save all Github events every hour. These can be downloaded per hour from the website.\n",
    "\n",
    "- Activity archives are available starting 2/12/2011.\n",
    "- Activity archives for dates between 2/12/2011-12/31/2014 was recorded from the (now deprecated) Timeline API.\n",
    "- Activity archives for dates starting 1/1/2015 is recorded from the Events API.\n"
   ],
   "cell_type": "markdown",
   "metadata": {}
  },
  {
   "source": [
    "Download all GA events at 17/1/2021 @ 3PM UTC"
   ],
   "cell_type": "markdown",
   "metadata": {}
  },
  {
   "cell_type": "code",
   "execution_count": 10,
   "metadata": {},
   "outputs": [
    {
     "output_type": "execute_result",
     "data": {
      "text/plain": [
       "42326542"
      ]
     },
     "metadata": {},
     "execution_count": 10
    }
   ],
   "source": [
    "import requests\n",
    "\n",
    "date = \"2021-01-17-15.json.gz\"\n",
    "url = 'https://data.gharchive.org/' + date\n",
    "r = requests.get(url, allow_redirects=True)\n",
    "open(date, 'wb').write(r.content)"
   ]
  },
  {
   "source": [
    "Unzip compressed file and read first entry"
   ],
   "cell_type": "markdown",
   "metadata": {}
  },
  {
   "cell_type": "code",
   "execution_count": 12,
   "metadata": {
    "tags": [
     "outputPrepend"
    ]
   },
   "outputs": [
    {
     "output_type": "stream",
     "name": "stdout",
     "text": [
      ".vscode/extensions/ms-python.vscode-pylance-2021.1.2-pre.1/dist/typeshed-fallback/third_party/2and3/yaml/composer.pyi [fs read 0ms] (1ms)\\r\\n[IDX(2)]       binding: /home/user/.vscode/extensions/ms-python.vscode-pylance-2021.1.2-pre.1/dist/typeshed-fallback/third_party/2and3/yaml/composer.pyi (0ms)\\r\\n[IDX(2)]       parsing: /home/user/.vscode/extensions/ms-python.vscode-pylance-2021.1.2-pre.1/dist/typeshed-fallback/third_party/2and3/yaml/constructor.pyi [fs read 0ms] (1ms)\\r\\n[IDX(2)]       binding: /home/user/.vscode/extensions/ms-python.vscode-pylance-2021.1.2-pre.1/dist/typeshed-fallback/third_party/2and3/yaml/constructor.pyi (0ms)\\r\\n[IDX(2)]       parsing: /home/user/.vscode/extensions/ms-python.vscode-pylance-2021.1.2-pre.1/dist/typeshed-fallback/third_party/2and3/yaml/parser.pyi [fs read 0ms] (0ms)\\r\\n[IDX(2)]       binding: /home/user/.vscode/extensions/ms-python.vscode-pylance-2021.1.2-pre.1/dist/typeshed-fallback/third_party/2and3/yaml/parser.pyi (1ms)\\r\\n[IDX(2)]       parsing: /home/user/.vscode/extensions/ms-python.vscode-pylance-2021.1.2-pre.1/dist/typeshed-fallback/third_party/2and3/yaml/reader.pyi [fs read 0ms] (0ms)\\r\\n[IDX(2)]       binding: /home/user/.vscode/extensions/ms-python.vscode-pylance-2021.1.2-pre.1/dist/typeshed-fallback/third_party/2and3/yaml/reader.pyi (0ms)\\r\\n[IDX(2)]       parsing: /home/user/.vscode/extensions/ms-python.vscode-pylance-2021.1.2-pre.1/dist/typeshed-fallback/third_party/2and3/yaml/scanner.pyi [fs read 0ms] (1ms)\\r\\n[IDX(2)]       binding: /home/user/.vscode/extensions/ms-python.vscode-pylance-2021.1.2-pre.1/dist/typeshed-fallback/third_party/2and3/yaml/scanner.pyi (0ms)\\r\\n[IDX(2)]       parsing: /home/user/.vscode/extensions/ms-python.vscode-pylance-2021.1.2-pre.1/dist/typeshed-fallback/stdlib/2and3/_typeshed/__init__.pyi [fs read 0ms] (2ms)\\r\\n[IDX(2)]       binding: /home/user/.vscode/extensions/ms-python.vscode-pylance-2021.1.2-pre.1/dist/typeshed-fallback/stdlib/2and3/_typeshed/__init__.pyi (1ms)\\r\\n[IDX(2)]     indexing: /home/user/.vscode/extensions/ms-python.vscode-pylance-2021.1.2-pre.1/dist/typeshed-fallback/third_party/2and3/yaml/__init__.pyi [found 105] (12ms)\\r\\n[IDX(2)]     parsing: /home/user/code/vscodedebugfastapi/env3.8/lib/python3.8/site-packages/dotenv/__init__.py [fs read 0ms] (2ms)\\r\\n[IDX(2)]     binding: /home/user/code/vscodedebugfastapi/env3.8/lib/python3.8/site-packages/dotenv/__init__.py (1ms)\\r\\n[IDX(2)]     indexing: /home/user/code/vscodedebugfastapi/env3.8/lib/python3.8/site-packages/dotenv/__init__.py ...\\r\\n[IDX(2)]       parsing: /home/user/code/vscodedebugfastapi/env3.8/lib/python3.8/site-packages/dotenv/main.py [fs read 0ms] (18ms)\\r\\n[IDX(2)]       binding: /home/user/code/vscodedebugfastapi/env3.8/lib/python3.8/site-packages/dotenv/main.py (4ms)\\r\\n[IDX(2)]     indexing: /home/user/code/vscodedebugfastapi/env3.8/lib/python3.8/site-packages/dotenv/__init__.py [found 8] (22ms)\\r\\n[IDX(2)]     parsing: /home/user/code/vscodedebugfastapi/env3.8/lib/python3.8/site-packages/h11/__init__.py [fs read 0ms] (1ms)\\r\\n[IDX(2)]     binding: /home/user/code/vscodedebugfastapi/env3.8/lib/python3.8/site-packages/h11/__init__.py ...\\r\\n[IDX(2)]       parsing: /home/user/code/vscodedebugfastapi/env3.8/lib/python3.8/site-packages/h11/_connection.py [fs read 1ms] (15ms)\\r\\n[IDX(2)]       binding: /home/user/code/vscodedebugfastapi/env3.8/lib/python3.8/site-packages/h11/_connection.py ...\\r\\n[IDX(2)]         parsing: /home/user/code/vscodedebugfastapi/env3.8/lib/python3.8/site-packages/h11/_events.py [fs read 0ms] (6ms)\\r\\n[IDX(2)]         binding: /home/user/code/vscodedebugfastapi/env3.8/lib/python3.8/site-packages/h11/_events.py (2ms)\\r\\n[IDX(2)]         parsing: /home/user/code/vscodedebugfastapi/env3.8/lib/python3.8/site-packages/h11/_state.py [fs read 0ms] (5ms)\\r\\n[IDX(2)]         binding: /home/user/code/vscodedebugfastapi/env3.8/lib/python3.8/site-packages/h11/_state.py (2ms)\\r\\n[IDX(2)]       binding: /home/user/code/vscodedebugfastapi/env3.8/lib/python3.8/site-packages/h11/_connection.py (20ms)\\r\\n[IDX(2)]     binding: /home/user/code/vscodedebugfastapi/env3.8/lib/python3.8/site-packages/h11/__init__.py (36ms)\\r\\n[IDX(2)]     indexing: /home/user/code/vscodedebugfastapi/env3.8/lib/python3.8/site-packages/h11/__init__.py ...\\r\\n[IDX(2)]       parsing: /home/user/code/vscodedebugfastapi/env3.8/lib/python3.8/site-packages/h11/_util.py [fs read 0ms] (1ms)\\r\\n[IDX(2)]       binding: /home/user/code/vscodedebugfastapi/env3.8/lib/python3.8/site-packages/h11/_util.py (1ms)\\r\\n[IDX(2)]     indexing: /home/user/code/vscodedebugfastapi/env3.8/lib/python3.8/site-packages/h11/__init__.py [found 23] (3ms)\\r\\n[IDX(2)]     parsing: /home/user/code/vscodedebugfastapi/env3.8/lib/python3.8/site-packages/httptools/__init__.py [fs read 0ms] (1ms)\\r\\n[IDX(2)]     binding: /home/user/code/vscodedebugfastapi/env3.8/lib/python3.8/site-packages/httptools/__init__.py ...\\r\\n[IDX(2)]       parsing: /home/user/code/vscodedebugfastapi/env3.8/lib/python3.8/site-packages/httptools/parser/__init__.py [fs read 0ms] (1ms)\\r\\n[IDX(2)]       binding: /home/user/code/vscodedebugfastapi/env3.8/lib/python3.8/site-packages/httptools/parser/__init__.py ...\\r\\n[IDX(2)]         parsing: /home/user/code/vscodedebugfastapi/env3.8/lib/python3.8/site-packages/httptools/parser/errors.py [fs read 0ms] (0ms)\\r\\n[IDX(2)]         binding: /home/user/code/vscodedebugfastapi/env3.8/lib/python3.8/site-packages/httptools/parser/errors.py (0ms)\\r\\n[IDX(2)]       binding: /home/user/code/vscodedebugfastapi/env3.8/lib/python3.8/site-packages/httptools/parser/__init__.py (1ms)\\r\\n[IDX(2)]     binding: /home/user/code/vscodedebugfastapi/env3.8/lib/python3.8/site-packages/httptools/__init__.py (2ms)\\r\\n[IDX(2)]     indexing: /home/user/code/vscodedebugfastapi/env3.8/lib/python3.8/site-packages/httptools/__init__.py [found 0] (0ms)\\r\\n[IDX(2)]     parsing: /home/user/code/vscodedebugfastapi/env3.8/lib/python3.8/site-packages/pydantic/__init__.py [fs read 0ms] (2ms)\\r\\n[IDX(2)]     binding: /home/user/code/vscodedebugfastapi/env3.8/lib/python3.8/site-packages/pydantic/__init__.py ...\\r\\n[IDX(2)]       parsing: /home/user/code/vscodedebugfastapi/env3.8/lib/python3.8/site-packages/pydantic/errors.py [fs read 0ms] (12ms)\\r\\n[IDX(2)]       binding: /home/user/code/vscodedebugfastapi/env3.8/lib/python3.8/site-packages/pydantic/errors.py (5ms)\\r\\n[IDX(2)]       parsing: /home/user/code/vscodedebugfastapi/env3.8/lib/python3.8/site-packages/pydantic/main.py [fs read 0ms] (38ms)\\r\\n[IDX(2)]       binding: /home/user/code/vscodedebugfastapi/env3.8/lib/python3.8/site-packages/pydantic/main.py (13ms)\\r\\n[IDX(2)]       parsing: /home/user/code/vscodedebugfastapi/env3.8/lib/python3.8/site-packages/pydantic/networks.py [fs read 0ms] (16ms)\\r\\n[IDX(2)]       binding: /home/user/code/vscodedebugfastapi/env3.8/lib/python3.8/site-packages/pydantic/networks.py (5ms)\\r\\n[IDX(2)]       parsing: /home/user/code/vscodedebugfastapi/env3.8/lib/python3.8/site-packages/pydantic/tools.py [fs read 0ms] (2ms)\\r\\n[IDX(2)]       binding: /home/user/code/vscodedebugfastapi/env3.8/lib/python3.8/site-packages/pydantic/tools.py (1ms)\\r\\n[IDX(2)]       parsing: /home/user/code/vscodedebugfastapi/env3.8/lib/python3.8/site-packages/pydantic/types.py [fs read 0ms] (11ms)\\r\\n[IDX(2)]       binding: /home/user/code/vscodedebugfastapi/env3.8/lib/python3.8/site-packages/pydantic/types.py (6ms)\\r\\n[IDX(2)]     binding: /home/user/code/vscodedebugfastapi/env3.8/lib/python3.8/site-packages/pydantic/__init__.py (111ms)\\r\\n[IDX(2)]     indexing: /home/user/code/vscodedebugfastapi/env3.8/lib/python3.8/site-packages/pydantic/__init__.py ...\\r\\n[IDX(2)]       parsing: /home/user/code/vscodedebugfastapi/env3.8/lib/python3.8/site-packages/pydantic/class_validators.py [fs read 0ms] (14ms)\\r\\n[IDX(2)]       binding: /home/user/code/vscodedebugfastapi/env3.8/lib/python3.8/site-packages/pydantic/class_validators.py (4ms)\\r\\n[IDX(2)]       parsing: /home/user/code/vscodedebugfastapi/env3.8/lib/python3.8/site-packages/pydantic/decorator.py [fs read 0ms] (5ms)\\r\\n[IDX(2)]       binding: /home/user/code/vscodedebugfastapi/env3.8/lib/python3.8/site-packages/pydantic/decorator.py (3ms)\\r\\n[IDX(2)]       parsing: /home/user/code/vscodedebugfastapi/env3.8/lib/python3.8/site-packages/pydantic/env_settings.py [fs read 0ms] (4ms)\\r\\n[IDX(2)]       binding: /home/user/code/vscodedebugfastapi/env3.8/lib/python3.8/site-packages/pydantic/env_settings.py (1ms)\\r\\n[IDX(2)]       parsing: /home/user/code/vscodedebugfastapi/env3.8/lib/python3.8/site-packages/pydantic/error_wrappers.py [fs read 0ms] (9ms)\\r\\n[IDX(2)]       binding: /home/user/code/vscodedebugfastapi/env3.8/lib/python3.8/site-packages/pydantic/error_wrappers.py (1ms)\\r\\n[IDX(2)]       parsing: /home/user/code/vscodedebugfastapi/env3.8/lib/python3.8/site-packages/pydantic/fields.py [fs read 1ms] (23ms)\\r\\n[IDX(2)]       binding: /home/user/code/vscodedebugfastapi/env3.8/lib/python3.8/site-packages/pydantic/fields.py (8ms)\\r\\n[IDX(2)]       parsing: /home/user/code/vscodedebugfastapi/env3.8/lib/python3.8/site-packages/pydantic/parse.py [fs read 0ms] (1ms)\\r\\n[IDX(2)]       binding: /home/user/code/vscodedebugfastapi/env3.8/lib/python3.8/site-packages/pydantic/parse.py (1ms)\\r\\n[IDX(2)]       parsing: /home/user/code/vscodedebugfastapi/env3.8/lib/python3.8/site-packages/pydantic/version.py [fs read 0ms] (2ms)\\r\\n[IDX(2)]       binding: /home/user/code/vscodedebugfastapi/env3.8/lib/python3.8/site-packages/pydantic/version.py (0ms)\\r\\n[IDX(2)]     indexing: /home/user/code/vscodedebugfastapi/env3.8/lib/python3.8/site-packages/pydantic/__init__.py [found 71] (78ms)\\r\\n[IDX(2)]     parsing: /home/user/code/vscodedebugfastapi/env3.8/lib/python3.8/site-packages/setuptools/__init__.py [fs read 0ms] (10ms)\\r\\n[IDX(2)]     binding: /home/user/code/vscodedebugfastapi/env3.8/lib/python3.8/site-packages/setuptools/__init__.py (2ms)\\r\\n[IDX(2)]     indexing: /home/user/code/vscodedebugfastapi/env3.8/lib/python3.8/site-packages/setuptools/__init__.py ...\\r\\n[IDX(2)]       parsing: /home/user/code/vscodedebugfastapi/env3.8/lib/python3.8/site-packages/setuptools/_deprecation_warning.py [fs read 0ms] (2ms)\\r\\n[IDX(2)]       binding: /home/user/code/vscodedebugfastapi/env3.8/lib/python3.8/site-packages/setuptools/_deprecation_warning.py (0ms)\\r\\n[IDX(2)]       parsing: /home/user/code/vscodedebugfastapi/env3.8/lib/python3.8/site-packages/setuptools/extension.py [fs read 0ms] (1ms)\\r\\n[IDX(2)]       binding: /home/user/code/vscodedebugfastapi/env3.8/lib/python3.8/site-packages/setuptools/extension.py (1ms)\\r\\n[IDX(2)]       parsing: /home/user/code/vscodedebugfastapi/env3.8/lib/python3.8/site-packages/setuptools/dist.py [fs read 0ms] (41ms)\\r\\n[IDX(2)]       binding: /home/user/code/vscodedebugfastapi/env3.8/lib/python3.8/site-packages/setuptools/dist.py (9ms)\\r\\n[IDX(2)]       parsing: /home/user/code/vscodedebugfastapi/env3.8/lib/python3.8/site-packages/setuptools/depends.py [fs read 1ms] (7ms)\\r\\n[IDX(2)]       binding: /home/user/code/vscodedebugfastapi/env3.8/lib/python3.8/site-packages/setuptools/depends.py (2ms)\\r\\n[IDX(2)]     indexing: /home/user/code/vscodedebugfastapi/env3.8/lib/python3.8/site-packages/setuptools/__init__.py [found 8] (65ms)\\r\\n[IDX(2)]     parsing: /home/user/code/vscodedebugfastapi/env3.8/lib/python3.8/site-packages/uvicorn/__init__.py [fs read 0ms] (3ms)\\r\\n[IDX(2)]     binding: /home/user/code/vscodedebugfastapi/env3.8/lib/python3.8/site-packages/uvicorn/__init__.py (0ms)\\r\\n[IDX(2)]     indexing: /home/user/code/vscodedebugfastapi/env3.8/lib/python3.8/site-packages/uvicorn/__init__.py ...\\r\\n[IDX(2)]       parsing: /home/user/code/vscodedebugfastapi/env3.8/lib/python3.8/site-packages/uvicorn/config.py [fs read 0ms] (18ms)\\r\\n[IDX(2)]       binding: /home/user/code/vscodedebugfastapi/env3.8/lib/python3.8/site-packages/uvicorn/config.py (3ms)\\r\\n[IDX(2)]       parsing: /home/user/code/vscodedebugfastapi/env3.8/lib/python3.8/site-packages/uvicorn/main.py [fs read 0ms] (15ms)\\r\\n[IDX(2)]       binding: /home/user/code/vscodedebugfastapi/env3.8/lib/python3.8/site-packages/uvicorn/main.py (2ms)\\r\\n[IDX(2)]       parsing: /home/user/code/vscodedebugfastapi/env3.8/lib/python3.8/site-packages/uvicorn/server.py [fs read 0ms] (4ms)\\r\\n[IDX(2)]       binding: /home/user/code/vscodedebugfastapi/env3.8/lib/python3.8/site-packages/uvicorn/server.py (5ms)\\r\\n[IDX(2)]     indexing: /home/user/code/vscodedebugfastapi/env3.8/lib/python3.8/site-packages/uvicorn/__init__.py [found 4] (47ms)\\r\\n[IDX(2)]     parsing: /home/user/code/vscodedebugfastapi/env3.8/lib/python3.8/site-packages/uvloop/__init__.py [fs read 0ms] (1ms)\\r\\n[IDX(2)]     binding: /home/user/code/vscodedebugfastapi/env3.8/lib/python3.8/site-packages/uvloop/__init__.py (1ms)\\r\\n[IDX(2)]     indexing: /home/user/code/vscodedebugfastapi/env3.8/lib/python3.8/site-packages/uvloop/__init__.py [found 3] (0ms)\\r\\n[IDX(2)]     parsing: /home/user/code/vscodedebugfastapi/env3.8/lib/python3.8/site-packages/websockets/__init__.py [fs read 0ms] (1ms)\\r\\n[IDX(2)]     binding: /home/user/code/vscodedebugfastapi/env3.8/lib/python3.8/site-packages/websockets/__init__.py ...\\r\\n[IDX(2)]       parsing: /home/user/code/vscodedebugfastapi/env3.8/lib/python3.8/site-packages/websockets/auth.py [fs read 0ms] (4ms)\\r\\n[IDX(2)]       binding: /home/user/code/vscodedebugfastapi/env3.8/lib/python3.8/site-packages/websockets/auth.py (2ms)\\r\\n[IDX(2)]       parsing: /home/user/code/vscodedebugfastapi/env3.8/lib/python3.8/site-packages/websockets/client.py [fs read 0ms] (17ms)\\r\\n[IDX(2)]       binding: /home/user/code/vscodedebugfastapi/env3.8/lib/python3.8/site-packages/websockets/client.py (5ms)\\r\\n[IDX(2)]       parsing: /home/user/code/vscodedebugfastapi/env3.8/lib/python3.8/site-packages/websockets/exceptions.py [fs read 0ms] (6ms)\\r\\n[IDX(2)]       binding: /home/user/code/vscodedebugfastapi/env3.8/lib/python3.8/site-packages/websockets/exceptions.py (5ms)\\r\\n[IDX(2)]       parsing: /home/user/code/vscodedebugfastapi/env3.8/lib/python3.8/site-packages/websockets/protocol.py [fs read 0ms] (10ms)\\r\\n[IDX(2)]       binding: /home/user/code/vscodedebugfastapi/env3.8/lib/python3.8/site-packages/websockets/protocol.py ...\\r\\n[IDX(2)]         parsing: /home/user/code/vscodedebugfastapi/env3.8/lib/python3.8/site-packages/websockets/framing.py [fs read 0ms] (9ms)\\r\\n[IDX(2)]         binding: /home/user/code/vscodedebugfastapi/env3.8/lib/python3.8/site-packages/websockets/framing.py (6ms)\\r\\n[IDX(2)]         parsing: /home/user/code/vscodedebugfastapi/env3.8/lib/python3.8/site-packages/websockets/handshake.py [fs read 0ms] (5ms)\\r\\n[IDX(2)]         binding: /home/user/code/vscodedebugfastapi/env3.8/lib/python3.8/site-packages/websockets/handshake.py (1ms)\\r\\n[IDX(2)]       binding: /home/user/code/vscodedebugfastapi/env3.8/lib/python3.8/site-packages/websockets/protocol.py (30ms)\\r\\n[IDX(2)]       parsing: /home/user/code/vscodedebugfastapi/env3.8/lib/python3.8/site-packages/websockets/server.py [fs read 0ms] (8ms)\\r\\n[IDX(2)]       binding: /home/user/code/vscodedebugfastapi/env3.8/lib/python3.8/site-packages/websockets/server.py (7ms)\\r\\n[IDX(2)]       parsing: /home/user/code/vscodedebugfastapi/env3.8/lib/python3.8/site-packages/websockets/typing.py [fs read 1ms] (1ms)\\r\\n[IDX(2)]       binding: /home/user/code/vscodedebugfastapi/env3.8/lib/python3.8/site-packages/websockets/typing.py (0ms)\\r\\n[IDX(2)]       parsing: /home/user/code/vscodedebugfastapi/env3.8/lib/python3.8/site-packages/websockets/uri.py [fs read 0ms] (1ms)\\r\\n[IDX(2)]       binding: /home/user/code/vscodedebugfastapi/env3.8/lib/python3.8/site-packages/websockets/uri.py (0ms)\\r\\n[IDX(2)]     binding: /home/user/code/vscodedebugfastapi/env3.8/lib/python3.8/site-packages/websockets/__init__.py (98ms)\\r\\n[IDX(2)]     indexing: /home/user/code/vscodedebugfastapi/env3.8/lib/python3.8/site-packages/websockets/__init__.py [found 41] (1ms)\\r\\n[IDX(2)]   index execution environment /home/user/code/vscodedebugfastapi [found 7174 in 390 files] (1996ms)\\r\\n[IDX(2)] index libraries /home/user/code/vscodedebugfastapi [found 7174 in 1 exec envs] (2277ms)\\r\\n[Info  - 3:55:34 PM] [IDX(2)] Long operation: index libraries /home/user/code/vscodedebugfastapi (2277ms)\\r\\n[Info  - 3:55:34 PM] Indexer done(2). indexed 390 files\\r\\n[FG] parsing: /home/user/code/vscodedebugfastapi/main.py (45ms)\\r\\n[FG] parsing: /home/user/.vscode/extensions/ms-python.vscode-pylance-2021.1.2-pre.1/dist/typeshed-fallback/stdlib/3/builtins.pyi [fs read 4ms] (105ms)\\r\\n[FG] binding: /home/user/.vscode/extensions/ms-python.vscode-pylance-2021.1.2-pre.1/dist/typeshed-fallback/stdlib/3/builtins.pyi (33ms)\\r\\n[FG] binding: /home/user/code/vscodedebugfastapi/main.py (0ms)\\r\\n[FG] parsing: /home/user/.vscode/extensions/ms-python.vscode-pylance-2021.1.2-pre.1/dist/typeshed-fallback/stdlib/2and3/_typeshed/__init__.pyi [fs read 1ms] (11ms)\\r\\n[FG] binding: /home/user/.vscode/extensions/ms-python.vscode-pylance-2021.1.2-pre.1/dist/typeshed-fallback/stdlib/2and3/_typeshed/__init__.pyi (1ms)\\r\\n[FG] parsing: /home/user/.vscode/extensions/ms-python.vscode-pylance-2021.1.2-pre.1/dist/typeshed-fallback/third_party/2and3/typing_extensions.pyi [fs read 1ms] (4ms)\\r\\n[FG] binding: /home/user/.vscode/extensions/ms-python.vscode-pylance-2021.1.2-pre.1/dist/typeshed-fallback/third_party/2and3/typing_extensions.pyi (1ms)\\r\\n[FG] parsing: /home/user/.vscode/extensions/ms-python.vscode-pylance-2021.1.2-pre.1/dist/typeshed-fallback/stdlib/3/typing.pyi [fs read 1ms] (31ms)\\r\\n[FG] binding: /home/user/.vscode/extensions/ms-python.vscode-pylance-2021.1.2-pre.1/dist/typeshed-fallback/stdlib/3/typing.pyi (17ms)\\r\\nBackground analysis message: getDiagnosticsForRange\\r\\nBackground analysis message: getDiagnosticsForRange\\r\\nBackground analysis message: getDiagnosticsForRange\\r\\nBackground analysis message: getDiagnosticsForRange\\r\\n[FG] completion at /home/user/code/vscodedebugfastapi/main.py:6:26 ...\\r\\n[FG]   parsing: /home/user/code/vscodedebugfastapi/env3.8/lib/python3.8/site-packages/fastapi/__init__.py [fs read 1ms] (3ms)\\r\\n[FG]   binding: /home/user/code/vscodedebugfastapi/env3.8/lib/python3.8/site-packages/fastapi/__init__.py (0ms)\\r\\n[FG]   parsing: /home/user/code/vscodedebugfastapi/env3.8/lib/python3.8/site-packages/fastapi/applications.py [fs read 1ms] (46ms)\\r\\n[FG]   binding: /home/user/code/vscodedebugfastapi/env3.8/lib/python3.8/site-packages/fastapi/applications.py (5ms)\\r\\n[FG] completion at /home/user/code/vscodedebugfastapi/main.py:6:26 [found 7 items] (103ms)\\r\\nIntelliCode: current invocation did not produce any meaningful tokens.\\r\\nTime taken to get recommendations: 4 ms, Memory increase: 99 KB.\\r\\nBackground analysis message: getDiagnosticsForRange\\r\\nBackground analysis message: getDiagnosticsForRange\\r\\nBackground analysis message: getDiagnosticsForRange\\r\\nBackground analysis message: getDiagnosticsForRange\\r\\nBackground analysis message: getDiagnosticsForRange\\r\\nBackground analysis message: getDiagnosticsForRange\\r\\n[FG] completion at /home/user/code/vscodedebugfastapi/main.py:6:26 [found 7 items] (40ms)\\r\\nIntelliCode: current invocation did not produce any meaningful tokens.\\r\\nTime taken to get recommendations: 1 ms, Memory increase: 32 KB.\\r\\nBackground analysis message: getDiagnosticsForRange\\r\\nBackground analysis message: getDiagnosticsForRange\\r\\nBackground analysis message: getDiagnosticsForRange\\r\\nBackground analysis message: getDiagnosticsForRange\\r\\n[FG] completion at /home/user/code/vscodedebugfastapi/main.py:6:26 [found 7 items] (23ms)\\r\\nIntelliCode: current invocation did not produce any meaningful tokens.\\r\\nTime taken to get recommendations: 1 ms, Memory increase: 25 KB.\\r\\n```\\r\\n\\r\\n</details>\",\"performed_via_github_app\":null}},\"public\":true,\"created_at\":\"2021-01-17T15:00:00Z\",\"org\":{\"id\":6154722,\"login\":\"microsoft\",\"gravatar_id\":\"\",\"url\":\"https://api.github.com/orgs/microsoft\",\"avatar_url\":\"https://avatars.githubusercontent.com/u/6154722?\"}}\n\n"
     ]
    }
   ],
   "source": [
    "import gzip\n",
    "import os\n",
    "import shutil\n",
    "\n",
    "# unzip\n",
    "with gzip.open(date, 'rb') as f_in:\n",
    "    with open(date.strip('.gz'), 'wb') as f_out:\n",
    "        shutil.copyfileobj(f_in, f_out)\n",
    "\n",
    "# read first lgz -ine\n",
    "with open(date.strip('.gz'), 'a+') as f_1:\n",
    "    f_1.write('This is example text')\n",
    "    f_1.seek(2)\n",
    "    print(f_1.readline())"
   ]
  },
  {
   "cell_type": "code",
   "execution_count": null,
   "metadata": {},
   "outputs": [],
   "source": []
  }
 ]
}